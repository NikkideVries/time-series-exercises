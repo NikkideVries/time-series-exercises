{
 "cells": [
  {
   "cell_type": "markdown",
   "id": "c90f4e44-ac07-4dc3-927d-0c07a0fdba29",
   "metadata": {},
   "source": [
    "# Prepare: \n",
    "The end result of this exercise should be a file named prepare.py."
   ]
  },
  {
   "cell_type": "code",
   "execution_count": 22,
   "id": "8fd9ac99-147a-4c8a-87ba-ffb401b7b592",
   "metadata": {
    "tags": []
   },
   "outputs": [],
   "source": [
    "#standard ds imports\n",
    "import numpy as np\n",
    "import pandas as pd\n",
    "import matplotlib.pyplot as plt\n",
    "import seaborn as sns\n",
    "\n",
    "#datetime utilities\n",
    "from datetime import timedelta, datetime\n",
    "\n",
    "#custom imports\n",
    "import acquire as ac\n",
    "\n",
    "#remove warnings\n",
    "import warnings\n",
    "warnings.filterwarnings(\"ignore\")"
   ]
  },
  {
   "cell_type": "code",
   "execution_count": 23,
   "id": "6a2fbe83-058b-4d67-89f2-b28de995aaff",
   "metadata": {
    "tags": []
   },
   "outputs": [
    {
     "data": {
      "text/html": [
       "<div>\n",
       "<style scoped>\n",
       "    .dataframe tbody tr th:only-of-type {\n",
       "        vertical-align: middle;\n",
       "    }\n",
       "\n",
       "    .dataframe tbody tr th {\n",
       "        vertical-align: top;\n",
       "    }\n",
       "\n",
       "    .dataframe thead th {\n",
       "        text-align: right;\n",
       "    }\n",
       "</style>\n",
       "<table border=\"1\" class=\"dataframe\">\n",
       "  <thead>\n",
       "    <tr style=\"text-align: right;\">\n",
       "      <th></th>\n",
       "      <th>sale_date</th>\n",
       "      <th>sale_amount</th>\n",
       "      <th>item_brand</th>\n",
       "      <th>item_name</th>\n",
       "      <th>item_price</th>\n",
       "      <th>store_address</th>\n",
       "      <th>store_zipcode</th>\n",
       "    </tr>\n",
       "  </thead>\n",
       "  <tbody>\n",
       "    <tr>\n",
       "      <th>0</th>\n",
       "      <td>2013-01-01</td>\n",
       "      <td>13</td>\n",
       "      <td>Riceland</td>\n",
       "      <td>Riceland American Jazmine Rice</td>\n",
       "      <td>0.84</td>\n",
       "      <td>12125 Alamo Ranch Pkwy</td>\n",
       "      <td>78253</td>\n",
       "    </tr>\n",
       "    <tr>\n",
       "      <th>1</th>\n",
       "      <td>2013-01-02</td>\n",
       "      <td>11</td>\n",
       "      <td>Riceland</td>\n",
       "      <td>Riceland American Jazmine Rice</td>\n",
       "      <td>0.84</td>\n",
       "      <td>12125 Alamo Ranch Pkwy</td>\n",
       "      <td>78253</td>\n",
       "    </tr>\n",
       "    <tr>\n",
       "      <th>2</th>\n",
       "      <td>2013-01-03</td>\n",
       "      <td>14</td>\n",
       "      <td>Riceland</td>\n",
       "      <td>Riceland American Jazmine Rice</td>\n",
       "      <td>0.84</td>\n",
       "      <td>12125 Alamo Ranch Pkwy</td>\n",
       "      <td>78253</td>\n",
       "    </tr>\n",
       "    <tr>\n",
       "      <th>3</th>\n",
       "      <td>2013-01-04</td>\n",
       "      <td>13</td>\n",
       "      <td>Riceland</td>\n",
       "      <td>Riceland American Jazmine Rice</td>\n",
       "      <td>0.84</td>\n",
       "      <td>12125 Alamo Ranch Pkwy</td>\n",
       "      <td>78253</td>\n",
       "    </tr>\n",
       "    <tr>\n",
       "      <th>4</th>\n",
       "      <td>2013-01-05</td>\n",
       "      <td>10</td>\n",
       "      <td>Riceland</td>\n",
       "      <td>Riceland American Jazmine Rice</td>\n",
       "      <td>0.84</td>\n",
       "      <td>12125 Alamo Ranch Pkwy</td>\n",
       "      <td>78253</td>\n",
       "    </tr>\n",
       "  </tbody>\n",
       "</table>\n",
       "</div>"
      ],
      "text/plain": [
       "    sale_date  sale_amount item_brand                       item_name  \\\n",
       "0  2013-01-01           13   Riceland  Riceland American Jazmine Rice   \n",
       "1  2013-01-02           11   Riceland  Riceland American Jazmine Rice   \n",
       "2  2013-01-03           14   Riceland  Riceland American Jazmine Rice   \n",
       "3  2013-01-04           13   Riceland  Riceland American Jazmine Rice   \n",
       "4  2013-01-05           10   Riceland  Riceland American Jazmine Rice   \n",
       "\n",
       "   item_price           store_address  store_zipcode  \n",
       "0        0.84  12125 Alamo Ranch Pkwy          78253  \n",
       "1        0.84  12125 Alamo Ranch Pkwy          78253  \n",
       "2        0.84  12125 Alamo Ranch Pkwy          78253  \n",
       "3        0.84  12125 Alamo Ranch Pkwy          78253  \n",
       "4        0.84  12125 Alamo Ranch Pkwy          78253  "
      ]
     },
     "execution_count": 23,
     "metadata": {},
     "output_type": "execute_result"
    }
   ],
   "source": [
    "# get the data frame:\n",
    "df = ac.acquire_store()\n",
    "df.head()"
   ]
  },
  {
   "cell_type": "code",
   "execution_count": 24,
   "id": "c24d620b-7cc2-4f8e-b3d0-4e8cb70a9262",
   "metadata": {
    "tags": []
   },
   "outputs": [
    {
     "name": "stdout",
     "output_type": "stream",
     "text": [
      "<class 'pandas.core.frame.DataFrame'>\n",
      "RangeIndex: 913000 entries, 0 to 912999\n",
      "Data columns (total 7 columns):\n",
      " #   Column         Non-Null Count   Dtype  \n",
      "---  ------         --------------   -----  \n",
      " 0   sale_date      913000 non-null  object \n",
      " 1   sale_amount    913000 non-null  int64  \n",
      " 2   item_brand     913000 non-null  object \n",
      " 3   item_name      913000 non-null  object \n",
      " 4   item_price     913000 non-null  float64\n",
      " 5   store_address  913000 non-null  object \n",
      " 6   store_zipcode  913000 non-null  int64  \n",
      "dtypes: float64(1), int64(2), object(4)\n",
      "memory usage: 48.8+ MB\n"
     ]
    }
   ],
   "source": [
    "df.info()"
   ]
  },
  {
   "cell_type": "markdown",
   "id": "77d9e965-ea1e-40ac-a609-8ee9531c7b8f",
   "metadata": {},
   "source": [
    "# Question 1: \n",
    "Convert date column to datetime format."
   ]
  },
  {
   "cell_type": "code",
   "execution_count": 25,
   "id": "7eff3fd4-dd46-479e-81ed-ebad19d19cc0",
   "metadata": {
    "tags": []
   },
   "outputs": [],
   "source": [
    "df['sale_date']  = pd.to_datetime(df['sale_date'], infer_datetime_format = True)"
   ]
  },
  {
   "cell_type": "code",
   "execution_count": 26,
   "id": "4d928c3b-0e40-4b36-840b-72a732e40080",
   "metadata": {
    "tags": []
   },
   "outputs": [
    {
     "data": {
      "text/plain": [
       "sale_date        datetime64[ns]\n",
       "sale_amount               int64\n",
       "item_brand               object\n",
       "item_name                object\n",
       "item_price              float64\n",
       "store_address            object\n",
       "store_zipcode             int64\n",
       "dtype: object"
      ]
     },
     "execution_count": 26,
     "metadata": {},
     "output_type": "execute_result"
    }
   ],
   "source": [
    "df.dtypes"
   ]
  },
  {
   "cell_type": "markdown",
   "id": "53e85a9d-e3a7-4a84-8874-ce9e623d4d84",
   "metadata": {},
   "source": [
    "# Question 2: \n",
    "Plot the distribution of `sale_amount` and `item_price`."
   ]
  },
  {
   "cell_type": "code",
   "execution_count": 27,
   "id": "3cc3941e-974b-457f-bb0a-4b5f363b92a7",
   "metadata": {
    "tags": []
   },
   "outputs": [
    {
     "data": {
      "image/png": "[encoded data removed]",
      "text/plain": [
       "<Figure size 640x480 with 1 Axes>"
      ]
     },
     "metadata": {},
     "output_type": "display_data"
    }
   ],
   "source": [
    "df.sale_amount.plot()\n",
    "plt.title('Distribution of Sale Amount')\n",
    "plt.ylabel('Sale Amount')\n",
    "plt.show()"
   ]
  },
  {
   "cell_type": "code",
   "execution_count": 28,
   "id": "1a2501bf-1627-4f3b-bb00-569b804858f3",
   "metadata": {
    "tags": []
   },
   "outputs": [
    {
     "data": {
      "image/png": "[encoded data removed]",
      "text/plain": [
       "<Figure size 640x480 with 1 Axes>"
      ]
     },
     "metadata": {},
     "output_type": "display_data"
    }
   ],
   "source": [
    "df.item_price.plot()\n",
    "plt.title('Distribution of Item Price')\n",
    "plt.ylabel('Item Price')\n",
    "plt.show()"
   ]
  },
  {
   "cell_type": "markdown",
   "id": "b6c1b239-cc22-4821-9789-c05608190013",
   "metadata": {},
   "source": [
    "# Question 3:\n",
    "Set the index to be the datetime variable."
   ]
  },
  {
   "cell_type": "code",
   "execution_count": 29,
   "id": "db40feb0-95e4-44d7-98d9-e689072680cb",
   "metadata": {
    "tags": []
   },
   "outputs": [],
   "source": [
    "df = df.set_index('sale_date')"
   ]
  },
  {
   "cell_type": "code",
   "execution_count": 30,
   "id": "5c1d391b-137f-4713-8e62-3978e4cdf33b",
   "metadata": {
    "tags": []
   },
   "outputs": [
    {
     "data": {
      "text/html": [
       "<div>\n",
       "<style scoped>\n",
       "    .dataframe tbody tr th:only-of-type {\n",
       "        vertical-align: middle;\n",
       "    }\n",
       "\n",
       "    .dataframe tbody tr th {\n",
       "        vertical-align: top;\n",
       "    }\n",
       "\n",
       "    .dataframe thead th {\n",
       "        text-align: right;\n",
       "    }\n",
       "</style>\n",
       "<table border=\"1\" class=\"dataframe\">\n",
       "  <thead>\n",
       "    <tr style=\"text-align: right;\">\n",
       "      <th></th>\n",
       "      <th>sale_amount</th>\n",
       "      <th>item_brand</th>\n",
       "      <th>item_name</th>\n",
       "      <th>item_price</th>\n",
       "      <th>store_address</th>\n",
       "      <th>store_zipcode</th>\n",
       "    </tr>\n",
       "    <tr>\n",
       "      <th>sale_date</th>\n",
       "      <th></th>\n",
       "      <th></th>\n",
       "      <th></th>\n",
       "      <th></th>\n",
       "      <th></th>\n",
       "      <th></th>\n",
       "    </tr>\n",
       "  </thead>\n",
       "  <tbody>\n",
       "    <tr>\n",
       "      <th>2013-01-01</th>\n",
       "      <td>13</td>\n",
       "      <td>Riceland</td>\n",
       "      <td>Riceland American Jazmine Rice</td>\n",
       "      <td>0.84</td>\n",
       "      <td>12125 Alamo Ranch Pkwy</td>\n",
       "      <td>78253</td>\n",
       "    </tr>\n",
       "    <tr>\n",
       "      <th>2013-01-02</th>\n",
       "      <td>11</td>\n",
       "      <td>Riceland</td>\n",
       "      <td>Riceland American Jazmine Rice</td>\n",
       "      <td>0.84</td>\n",
       "      <td>12125 Alamo Ranch Pkwy</td>\n",
       "      <td>78253</td>\n",
       "    </tr>\n",
       "    <tr>\n",
       "      <th>2013-01-03</th>\n",
       "      <td>14</td>\n",
       "      <td>Riceland</td>\n",
       "      <td>Riceland American Jazmine Rice</td>\n",
       "      <td>0.84</td>\n",
       "      <td>12125 Alamo Ranch Pkwy</td>\n",
       "      <td>78253</td>\n",
       "    </tr>\n",
       "    <tr>\n",
       "      <th>2013-01-04</th>\n",
       "      <td>13</td>\n",
       "      <td>Riceland</td>\n",
       "      <td>Riceland American Jazmine Rice</td>\n",
       "      <td>0.84</td>\n",
       "      <td>12125 Alamo Ranch Pkwy</td>\n",
       "      <td>78253</td>\n",
       "    </tr>\n",
       "    <tr>\n",
       "      <th>2013-01-05</th>\n",
       "      <td>10</td>\n",
       "      <td>Riceland</td>\n",
       "      <td>Riceland American Jazmine Rice</td>\n",
       "      <td>0.84</td>\n",
       "      <td>12125 Alamo Ranch Pkwy</td>\n",
       "      <td>78253</td>\n",
       "    </tr>\n",
       "  </tbody>\n",
       "</table>\n",
       "</div>"
      ],
      "text/plain": [
       "            sale_amount item_brand                       item_name  \\\n",
       "sale_date                                                            \n",
       "2013-01-01           13   Riceland  Riceland American Jazmine Rice   \n",
       "2013-01-02           11   Riceland  Riceland American Jazmine Rice   \n",
       "2013-01-03           14   Riceland  Riceland American Jazmine Rice   \n",
       "2013-01-04           13   Riceland  Riceland American Jazmine Rice   \n",
       "2013-01-05           10   Riceland  Riceland American Jazmine Rice   \n",
       "\n",
       "            item_price           store_address  store_zipcode  \n",
       "sale_date                                                      \n",
       "2013-01-01        0.84  12125 Alamo Ranch Pkwy          78253  \n",
       "2013-01-02        0.84  12125 Alamo Ranch Pkwy          78253  \n",
       "2013-01-03        0.84  12125 Alamo Ranch Pkwy          78253  \n",
       "2013-01-04        0.84  12125 Alamo Ranch Pkwy          78253  \n",
       "2013-01-05        0.84  12125 Alamo Ranch Pkwy          78253  "
      ]
     },
     "execution_count": 30,
     "metadata": {},
     "output_type": "execute_result"
    }
   ],
   "source": [
    "df.head()"
   ]
  },
  {
   "cell_type": "code",
   "execution_count": 31,
   "id": "7bb91419-61b3-427d-bf34-e1154b50ddac",
   "metadata": {
    "tags": []
   },
   "outputs": [],
   "source": [
    "df = df.sort_index()"
   ]
  },
  {
   "cell_type": "code",
   "execution_count": 32,
   "id": "06cada42-2ca2-4b99-8be8-2a5300cfd807",
   "metadata": {
    "tags": []
   },
   "outputs": [
    {
     "data": {
      "text/html": [
       "<div>\n",
       "<style scoped>\n",
       "    .dataframe tbody tr th:only-of-type {\n",
       "        vertical-align: middle;\n",
       "    }\n",
       "\n",
       "    .dataframe tbody tr th {\n",
       "        vertical-align: top;\n",
       "    }\n",
       "\n",
       "    .dataframe thead th {\n",
       "        text-align: right;\n",
       "    }\n",
       "</style>\n",
       "<table border=\"1\" class=\"dataframe\">\n",
       "  <thead>\n",
       "    <tr style=\"text-align: right;\">\n",
       "      <th></th>\n",
       "      <th>sale_amount</th>\n",
       "      <th>item_brand</th>\n",
       "      <th>item_name</th>\n",
       "      <th>item_price</th>\n",
       "      <th>store_address</th>\n",
       "      <th>store_zipcode</th>\n",
       "    </tr>\n",
       "    <tr>\n",
       "      <th>sale_date</th>\n",
       "      <th></th>\n",
       "      <th></th>\n",
       "      <th></th>\n",
       "      <th></th>\n",
       "      <th></th>\n",
       "      <th></th>\n",
       "    </tr>\n",
       "  </thead>\n",
       "  <tbody>\n",
       "    <tr>\n",
       "      <th>2013-01-01</th>\n",
       "      <td>13</td>\n",
       "      <td>Riceland</td>\n",
       "      <td>Riceland American Jazmine Rice</td>\n",
       "      <td>0.84</td>\n",
       "      <td>12125 Alamo Ranch Pkwy</td>\n",
       "      <td>78253</td>\n",
       "    </tr>\n",
       "    <tr>\n",
       "      <th>2013-01-01</th>\n",
       "      <td>26</td>\n",
       "      <td>Mueller</td>\n",
       "      <td>Mueller Sport Care Basic Support Level Medium ...</td>\n",
       "      <td>8.40</td>\n",
       "      <td>12018 Perrin Beitel Rd</td>\n",
       "      <td>78217</td>\n",
       "    </tr>\n",
       "    <tr>\n",
       "      <th>2013-01-01</th>\n",
       "      <td>27</td>\n",
       "      <td>Mama Marys</td>\n",
       "      <td>Pizza Sauce</td>\n",
       "      <td>4.65</td>\n",
       "      <td>12018 Perrin Beitel Rd</td>\n",
       "      <td>78217</td>\n",
       "    </tr>\n",
       "    <tr>\n",
       "      <th>2013-01-01</th>\n",
       "      <td>54</td>\n",
       "      <td>Mueller</td>\n",
       "      <td>Mueller Sport Care Basic Support Level Medium ...</td>\n",
       "      <td>8.40</td>\n",
       "      <td>15000 San Pedro Ave</td>\n",
       "      <td>78232</td>\n",
       "    </tr>\n",
       "    <tr>\n",
       "      <th>2013-01-01</th>\n",
       "      <td>35</td>\n",
       "      <td>Mueller</td>\n",
       "      <td>Mueller Sport Care Basic Support Level Medium ...</td>\n",
       "      <td>8.40</td>\n",
       "      <td>735 SW Military Dr</td>\n",
       "      <td>78221</td>\n",
       "    </tr>\n",
       "  </tbody>\n",
       "</table>\n",
       "</div>"
      ],
      "text/plain": [
       "            sale_amount  item_brand  \\\n",
       "sale_date                             \n",
       "2013-01-01           13    Riceland   \n",
       "2013-01-01           26     Mueller   \n",
       "2013-01-01           27  Mama Marys   \n",
       "2013-01-01           54     Mueller   \n",
       "2013-01-01           35     Mueller   \n",
       "\n",
       "                                                    item_name  item_price  \\\n",
       "sale_date                                                                   \n",
       "2013-01-01                     Riceland American Jazmine Rice        0.84   \n",
       "2013-01-01  Mueller Sport Care Basic Support Level Medium ...        8.40   \n",
       "2013-01-01                                        Pizza Sauce        4.65   \n",
       "2013-01-01  Mueller Sport Care Basic Support Level Medium ...        8.40   \n",
       "2013-01-01  Mueller Sport Care Basic Support Level Medium ...        8.40   \n",
       "\n",
       "                     store_address  store_zipcode  \n",
       "sale_date                                          \n",
       "2013-01-01  12125 Alamo Ranch Pkwy          78253  \n",
       "2013-01-01  12018 Perrin Beitel Rd          78217  \n",
       "2013-01-01  12018 Perrin Beitel Rd          78217  \n",
       "2013-01-01     15000 San Pedro Ave          78232  \n",
       "2013-01-01      735 SW Military Dr          78221  "
      ]
     },
     "execution_count": 32,
     "metadata": {},
     "output_type": "execute_result"
    }
   ],
   "source": [
    "df.head()"
   ]
  },
  {
   "cell_type": "markdown",
   "id": "eb968d7a-3e64-4749-8871-52d882ec3e48",
   "metadata": {},
   "source": [
    "# Question 4: \n",
    "Add a 'month' and 'day of week' column to your dataframe."
   ]
  },
  {
   "cell_type": "code",
   "execution_count": 33,
   "id": "42789bdc-331f-4dcc-826c-9988b9403640",
   "metadata": {},
   "outputs": [],
   "source": [
    "df['month']= df.index.month_name()\n",
    "df['day_of_week'] = df.index.day_name()"
   ]
  },
  {
   "cell_type": "markdown",
   "id": "a6eeda52-d1e3-478f-93c7-24b630e75be5",
   "metadata": {},
   "source": [
    "# Question 5: \n",
    "Add a column to your dataframe, sales_total, which is a derived from sale_amount (total items) and item_price."
   ]
  },
  {
   "cell_type": "code",
   "execution_count": 34,
   "id": "6d6aa911-8748-46d3-a2a4-76fdbc3b77f0",
   "metadata": {
    "tags": []
   },
   "outputs": [],
   "source": [
    "df['sales_total'] = df['sale_amount'] *df['item_price']"
   ]
  },
  {
   "cell_type": "markdown",
   "id": "0b1f8f97-a462-4317-b44f-f45b10fc6879",
   "metadata": {},
   "source": [
    "# Question 6: \n",
    "Make sure all the work that you have done above is reproducible. That is, you should put the code above into separate functions and be able to re-run the functions and get the same results."
   ]
  },
  {
   "cell_type": "code",
   "execution_count": 35,
   "id": "103a721b-7dfe-49a0-ba05-d06157ce5296",
   "metadata": {
    "tags": []
   },
   "outputs": [],
   "source": [
    "def convert_to_datetime(df):\n",
    "    '''\n",
    "    This function takes in a dataframe\n",
    "    and converts the sales_date column to a datetime\n",
    "    '''\n",
    "    df.sale_date = pd.to_datetime(df.sale_date, infer_datetime_format=True)\n",
    "    return df"
   ]
  },
  {
   "cell_type": "markdown",
   "id": "6a3b6161-2f3a-4035-9a89-c53e83ff7ee0",
   "metadata": {},
   "source": [
    "# Part 2: "
   ]
  },
  {
   "cell_type": "code",
   "execution_count": 36,
   "id": "e6cab605-002c-43d1-bb84-f7f2cbf24a50",
   "metadata": {
    "tags": []
   },
   "outputs": [
    {
     "data": {
      "text/html": [
       "<div>\n",
       "<style scoped>\n",
       "    .dataframe tbody tr th:only-of-type {\n",
       "        vertical-align: middle;\n",
       "    }\n",
       "\n",
       "    .dataframe tbody tr th {\n",
       "        vertical-align: top;\n",
       "    }\n",
       "\n",
       "    .dataframe thead th {\n",
       "        text-align: right;\n",
       "    }\n",
       "</style>\n",
       "<table border=\"1\" class=\"dataframe\">\n",
       "  <thead>\n",
       "    <tr style=\"text-align: right;\">\n",
       "      <th></th>\n",
       "      <th>Date</th>\n",
       "      <th>Consumption</th>\n",
       "      <th>Wind</th>\n",
       "      <th>Solar</th>\n",
       "      <th>Wind+Solar</th>\n",
       "    </tr>\n",
       "  </thead>\n",
       "  <tbody>\n",
       "    <tr>\n",
       "      <th>0</th>\n",
       "      <td>2006-01-01</td>\n",
       "      <td>1069.184</td>\n",
       "      <td>NaN</td>\n",
       "      <td>NaN</td>\n",
       "      <td>NaN</td>\n",
       "    </tr>\n",
       "    <tr>\n",
       "      <th>1</th>\n",
       "      <td>2006-01-02</td>\n",
       "      <td>1380.521</td>\n",
       "      <td>NaN</td>\n",
       "      <td>NaN</td>\n",
       "      <td>NaN</td>\n",
       "    </tr>\n",
       "    <tr>\n",
       "      <th>2</th>\n",
       "      <td>2006-01-03</td>\n",
       "      <td>1442.533</td>\n",
       "      <td>NaN</td>\n",
       "      <td>NaN</td>\n",
       "      <td>NaN</td>\n",
       "    </tr>\n",
       "  </tbody>\n",
       "</table>\n",
       "</div>"
      ],
      "text/plain": [
       "         Date  Consumption  Wind  Solar  Wind+Solar\n",
       "0  2006-01-01     1069.184   NaN    NaN         NaN\n",
       "1  2006-01-02     1380.521   NaN    NaN         NaN\n",
       "2  2006-01-03     1442.533   NaN    NaN         NaN"
      ]
     },
     "execution_count": 36,
     "metadata": {},
     "output_type": "execute_result"
    }
   ],
   "source": [
    "germany = ac.get_germany_data()\n",
    "germany.head(3)"
   ]
  },
  {
   "cell_type": "markdown",
   "id": "f13bcace-2a84-493b-828e-9dc70b5baa1a",
   "metadata": {},
   "source": [
    "# Question 1: \n",
    "Convert date column to datetime format."
   ]
  },
  {
   "cell_type": "code",
   "execution_count": 37,
   "id": "f53abbea-1b0d-4c27-a49f-e5d75e8d0c8b",
   "metadata": {
    "tags": []
   },
   "outputs": [
    {
     "data": {
      "text/plain": [
       "dtype('O')"
      ]
     },
     "execution_count": 37,
     "metadata": {},
     "output_type": "execute_result"
    }
   ],
   "source": [
    "#check current dtype- object\n",
    "germany.Date.dtypes"
   ]
  },
  {
   "cell_type": "code",
   "execution_count": 38,
   "id": "ef26bb5d-e383-4843-b4fb-077cf3f34650",
   "metadata": {
    "tags": []
   },
   "outputs": [],
   "source": [
    "germany.Date = germany.Date.astype('datetime64[ns]')"
   ]
  },
  {
   "cell_type": "code",
   "execution_count": 39,
   "id": "01f1dda0-818a-4a53-a002-517dfab47c56",
   "metadata": {
    "tags": []
   },
   "outputs": [
    {
     "name": "stdout",
     "output_type": "stream",
     "text": [
      "<class 'pandas.core.frame.DataFrame'>\n",
      "Int64Index: 4383 entries, 0 to 4382\n",
      "Data columns (total 5 columns):\n",
      " #   Column       Non-Null Count  Dtype         \n",
      "---  ------       --------------  -----         \n",
      " 0   Date         4383 non-null   datetime64[ns]\n",
      " 1   Consumption  4383 non-null   float64       \n",
      " 2   Wind         2920 non-null   float64       \n",
      " 3   Solar        2188 non-null   float64       \n",
      " 4   Wind+Solar   2187 non-null   float64       \n",
      "dtypes: datetime64[ns](1), float64(4)\n",
      "memory usage: 205.5 KB\n"
     ]
    }
   ],
   "source": [
    "#make sure\n",
    "germany.info()"
   ]
  },
  {
   "cell_type": "markdown",
   "id": "f395a0b6-832a-445b-9046-9f3f303e24ce",
   "metadata": {},
   "source": [
    "# Question 2: \n",
    "Plot the distribution of each of your variables."
   ]
  },
  {
   "cell_type": "code",
   "execution_count": 40,
   "id": "bc08b476-dd32-4fc1-b0f7-106aafd8bdd2",
   "metadata": {
    "tags": []
   },
   "outputs": [
    {
     "data": {
      "image/png": "[encoded data removed]",
      "text/plain": [
       "<Figure size 640x480 with 1 Axes>"
      ]
     },
     "metadata": {},
     "output_type": "display_data"
    },
    {
     "data": {
      "image/png": "[encoded data removed]",
      "text/plain": [
       "<Figure size 640x480 with 1 Axes>"
      ]
     },
     "metadata": {},
     "output_type": "display_data"
    },
    {
     "data": {
      "image/png": "[encoded data removed]",
      "text/plain": [
       "<Figure size 640x480 with 1 Axes>"
      ]
     },
     "metadata": {},
     "output_type": "display_data"
    },
    {
     "data": {
      "image/png": "[encoded data removed]",
      "text/plain": [
       "<Figure size 640x480 with 1 Axes>"
      ]
     },
     "metadata": {},
     "output_type": "display_data"
    },
    {
     "data": {
      "image/png": "[encoded data removed]",
      "text/plain": [
       "<Figure size 640x480 with 1 Axes>"
      ]
     },
     "metadata": {},
     "output_type": "display_data"
    }
   ],
   "source": [
    "#visualize distribution\n",
    "for col in germany.columns:\n",
    "    plt.hist(germany[col])\n",
    "    plt.title(col)\n",
    "    plt.show()"
   ]
  },
  {
   "cell_type": "code",
   "execution_count": 41,
   "id": "6aa47f13-4dcd-4fbd-b80b-837faedcbfa3",
   "metadata": {
    "tags": []
   },
   "outputs": [
    {
     "data": {
      "image/png": "[encoded data removed]",
      "text/plain": [
       "<Figure size 640x480 with 1 Axes>"
      ]
     },
     "metadata": {},
     "output_type": "display_data"
    },
    {
     "data": {
      "image/png": "[encoded data removed]",
      "text/plain": [
       "<Figure size 640x480 with 1 Axes>"
      ]
     },
     "metadata": {},
     "output_type": "display_data"
    },
    {
     "data": {
      "image/png": "[encoded data removed]",
      "text/plain": [
       "<Figure size 640x480 with 1 Axes>"
      ]
     },
     "metadata": {},
     "output_type": "display_data"
    },
    {
     "data": {
      "image/png": "[encoded data removed]",
      "text/plain": [
       "<Figure size 640x480 with 1 Axes>"
      ]
     },
     "metadata": {},
     "output_type": "display_data"
    }
   ],
   "source": [
    "#complete the same thing using sns\n",
    "for col in list(germany.columns.drop('Date')):\n",
    "    plt.figure()\n",
    "    sns.histplot(germany[col])\n",
    "    plt.title('Distribution of {}'.format(col))"
   ]
  },
  {
   "cell_type": "markdown",
   "id": "fb873820-2828-4599-994e-48226b3427f8",
   "metadata": {},
   "source": [
    "# Question 3: \n",
    "Set the index to be the datetime variable."
   ]
  },
  {
   "cell_type": "code",
   "execution_count": 42,
   "id": "b4cbc4ec-448d-49ff-9d1f-879494c1c7fa",
   "metadata": {
    "tags": []
   },
   "outputs": [
    {
     "data": {
      "text/plain": [
       "pandas.core.indexes.numeric.Int64Index"
      ]
     },
     "execution_count": 42,
     "metadata": {},
     "output_type": "execute_result"
    }
   ],
   "source": [
    "#check current index\n",
    "type(germany.index)"
   ]
  },
  {
   "cell_type": "code",
   "execution_count": 43,
   "id": "88ce8bff-3b2f-46b8-8a43-9b03f0501913",
   "metadata": {
    "tags": []
   },
   "outputs": [],
   "source": [
    "germany = germany.set_index('Date').sort_index()"
   ]
  },
  {
   "cell_type": "code",
   "execution_count": 44,
   "id": "4b396ea9-e483-4c9c-b22c-9962fb83bd7c",
   "metadata": {
    "tags": []
   },
   "outputs": [
    {
     "data": {
      "text/html": [
       "<div>\n",
       "<style scoped>\n",
       "    .dataframe tbody tr th:only-of-type {\n",
       "        vertical-align: middle;\n",
       "    }\n",
       "\n",
       "    .dataframe tbody tr th {\n",
       "        vertical-align: top;\n",
       "    }\n",
       "\n",
       "    .dataframe thead th {\n",
       "        text-align: right;\n",
       "    }\n",
       "</style>\n",
       "<table border=\"1\" class=\"dataframe\">\n",
       "  <thead>\n",
       "    <tr style=\"text-align: right;\">\n",
       "      <th></th>\n",
       "      <th>Consumption</th>\n",
       "      <th>Wind</th>\n",
       "      <th>Solar</th>\n",
       "      <th>Wind+Solar</th>\n",
       "    </tr>\n",
       "    <tr>\n",
       "      <th>Date</th>\n",
       "      <th></th>\n",
       "      <th></th>\n",
       "      <th></th>\n",
       "      <th></th>\n",
       "    </tr>\n",
       "  </thead>\n",
       "  <tbody>\n",
       "    <tr>\n",
       "      <th>2006-01-01</th>\n",
       "      <td>1069.184</td>\n",
       "      <td>NaN</td>\n",
       "      <td>NaN</td>\n",
       "      <td>NaN</td>\n",
       "    </tr>\n",
       "    <tr>\n",
       "      <th>2006-01-02</th>\n",
       "      <td>1380.521</td>\n",
       "      <td>NaN</td>\n",
       "      <td>NaN</td>\n",
       "      <td>NaN</td>\n",
       "    </tr>\n",
       "    <tr>\n",
       "      <th>2006-01-03</th>\n",
       "      <td>1442.533</td>\n",
       "      <td>NaN</td>\n",
       "      <td>NaN</td>\n",
       "      <td>NaN</td>\n",
       "    </tr>\n",
       "    <tr>\n",
       "      <th>2006-01-04</th>\n",
       "      <td>1457.217</td>\n",
       "      <td>NaN</td>\n",
       "      <td>NaN</td>\n",
       "      <td>NaN</td>\n",
       "    </tr>\n",
       "    <tr>\n",
       "      <th>2006-01-05</th>\n",
       "      <td>1477.131</td>\n",
       "      <td>NaN</td>\n",
       "      <td>NaN</td>\n",
       "      <td>NaN</td>\n",
       "    </tr>\n",
       "  </tbody>\n",
       "</table>\n",
       "</div>"
      ],
      "text/plain": [
       "            Consumption  Wind  Solar  Wind+Solar\n",
       "Date                                            \n",
       "2006-01-01     1069.184   NaN    NaN         NaN\n",
       "2006-01-02     1380.521   NaN    NaN         NaN\n",
       "2006-01-03     1442.533   NaN    NaN         NaN\n",
       "2006-01-04     1457.217   NaN    NaN         NaN\n",
       "2006-01-05     1477.131   NaN    NaN         NaN"
      ]
     },
     "execution_count": 44,
     "metadata": {},
     "output_type": "execute_result"
    }
   ],
   "source": [
    "germany.head()"
   ]
  },
  {
   "cell_type": "markdown",
   "id": "b459ad3b-cccb-4de8-a80a-27d5edee2054",
   "metadata": {},
   "source": [
    "# Question 4: \n",
    "Add a month and a year column to your dataframe."
   ]
  },
  {
   "cell_type": "code",
   "execution_count": 45,
   "id": "7b04c85f-9bfd-478f-9749-03f95c17147e",
   "metadata": {
    "tags": []
   },
   "outputs": [],
   "source": [
    "#create new column for month\n",
    "germany['month'] = germany.index.month_name()\n",
    "\n",
    "#create new column for year\n",
    "germany['year'] = germany.index.year"
   ]
  },
  {
   "cell_type": "code",
   "execution_count": 46,
   "id": "7d5b9494-771a-431b-89a5-60add2687753",
   "metadata": {
    "tags": []
   },
   "outputs": [
    {
     "data": {
      "text/html": [
       "<div>\n",
       "<style scoped>\n",
       "    .dataframe tbody tr th:only-of-type {\n",
       "        vertical-align: middle;\n",
       "    }\n",
       "\n",
       "    .dataframe tbody tr th {\n",
       "        vertical-align: top;\n",
       "    }\n",
       "\n",
       "    .dataframe thead th {\n",
       "        text-align: right;\n",
       "    }\n",
       "</style>\n",
       "<table border=\"1\" class=\"dataframe\">\n",
       "  <thead>\n",
       "    <tr style=\"text-align: right;\">\n",
       "      <th></th>\n",
       "      <th>Consumption</th>\n",
       "      <th>Wind</th>\n",
       "      <th>Solar</th>\n",
       "      <th>Wind+Solar</th>\n",
       "      <th>month</th>\n",
       "      <th>year</th>\n",
       "    </tr>\n",
       "    <tr>\n",
       "      <th>Date</th>\n",
       "      <th></th>\n",
       "      <th></th>\n",
       "      <th></th>\n",
       "      <th></th>\n",
       "      <th></th>\n",
       "      <th></th>\n",
       "    </tr>\n",
       "  </thead>\n",
       "  <tbody>\n",
       "    <tr>\n",
       "      <th>2006-01-01</th>\n",
       "      <td>1069.184</td>\n",
       "      <td>NaN</td>\n",
       "      <td>NaN</td>\n",
       "      <td>NaN</td>\n",
       "      <td>January</td>\n",
       "      <td>2006</td>\n",
       "    </tr>\n",
       "    <tr>\n",
       "      <th>2006-01-02</th>\n",
       "      <td>1380.521</td>\n",
       "      <td>NaN</td>\n",
       "      <td>NaN</td>\n",
       "      <td>NaN</td>\n",
       "      <td>January</td>\n",
       "      <td>2006</td>\n",
       "    </tr>\n",
       "    <tr>\n",
       "      <th>2006-01-03</th>\n",
       "      <td>1442.533</td>\n",
       "      <td>NaN</td>\n",
       "      <td>NaN</td>\n",
       "      <td>NaN</td>\n",
       "      <td>January</td>\n",
       "      <td>2006</td>\n",
       "    </tr>\n",
       "    <tr>\n",
       "      <th>2006-01-04</th>\n",
       "      <td>1457.217</td>\n",
       "      <td>NaN</td>\n",
       "      <td>NaN</td>\n",
       "      <td>NaN</td>\n",
       "      <td>January</td>\n",
       "      <td>2006</td>\n",
       "    </tr>\n",
       "    <tr>\n",
       "      <th>2006-01-05</th>\n",
       "      <td>1477.131</td>\n",
       "      <td>NaN</td>\n",
       "      <td>NaN</td>\n",
       "      <td>NaN</td>\n",
       "      <td>January</td>\n",
       "      <td>2006</td>\n",
       "    </tr>\n",
       "  </tbody>\n",
       "</table>\n",
       "</div>"
      ],
      "text/plain": [
       "            Consumption  Wind  Solar  Wind+Solar    month  year\n",
       "Date                                                           \n",
       "2006-01-01     1069.184   NaN    NaN         NaN  January  2006\n",
       "2006-01-02     1380.521   NaN    NaN         NaN  January  2006\n",
       "2006-01-03     1442.533   NaN    NaN         NaN  January  2006\n",
       "2006-01-04     1457.217   NaN    NaN         NaN  January  2006\n",
       "2006-01-05     1477.131   NaN    NaN         NaN  January  2006"
      ]
     },
     "execution_count": 46,
     "metadata": {},
     "output_type": "execute_result"
    }
   ],
   "source": [
    "germany.head()"
   ]
  },
  {
   "cell_type": "markdown",
   "id": "070ab7f4-8882-401d-9519-bbe5016e7f41",
   "metadata": {},
   "source": [
    "# Question 5: \n",
    "Fill any missing values."
   ]
  },
  {
   "cell_type": "code",
   "execution_count": 47,
   "id": "eefde3b5-f018-45b0-855a-37c28bccc456",
   "metadata": {
    "tags": []
   },
   "outputs": [
    {
     "data": {
      "text/plain": [
       "Consumption       0\n",
       "Wind           1463\n",
       "Solar          2195\n",
       "Wind+Solar     2196\n",
       "month             0\n",
       "year              0\n",
       "dtype: int64"
      ]
     },
     "execution_count": 47,
     "metadata": {},
     "output_type": "execute_result"
    }
   ],
   "source": [
    "germany.isnull().sum()"
   ]
  },
  {
   "cell_type": "code",
   "execution_count": 48,
   "id": "e7fdc1bd-d1e2-4d07-9480-7b36de79c1ba",
   "metadata": {
    "tags": []
   },
   "outputs": [
    {
     "name": "stdout",
     "output_type": "stream",
     "text": [
      "0\n",
      "1463\n",
      "2195\n",
      "2196\n",
      "0\n",
      "0\n"
     ]
    }
   ],
   "source": [
    "for col in list(germany.columns):\n",
    "    print(germany[col].isna().sum())"
   ]
  },
  {
   "cell_type": "code",
   "execution_count": 49,
   "id": "2c6beb3a-f16d-46a9-9f2a-c06911cd2c1c",
   "metadata": {
    "tags": []
   },
   "outputs": [
    {
     "name": "stdout",
     "output_type": "stream",
     "text": [
      "<class 'pandas.core.frame.DataFrame'>\n",
      "DatetimeIndex: 4383 entries, 2006-01-01 to 2017-12-31\n",
      "Data columns (total 6 columns):\n",
      " #   Column       Non-Null Count  Dtype  \n",
      "---  ------       --------------  -----  \n",
      " 0   Consumption  4383 non-null   float64\n",
      " 1   Wind         2920 non-null   float64\n",
      " 2   Solar        2188 non-null   float64\n",
      " 3   Wind+Solar   2187 non-null   float64\n",
      " 4   month        4383 non-null   object \n",
      " 5   year         4383 non-null   int64  \n",
      "dtypes: float64(4), int64(1), object(1)\n",
      "memory usage: 239.7+ KB\n"
     ]
    }
   ],
   "source": [
    "germany.info()"
   ]
  },
  {
   "cell_type": "code",
   "execution_count": 50,
   "id": "a53c9827-6c18-41b2-9c48-3acf5e10ae3d",
   "metadata": {
    "tags": []
   },
   "outputs": [],
   "source": [
    "germany.fillna(0, inplace = True)"
   ]
  },
  {
   "cell_type": "markdown",
   "id": "fbd578e0-9932-49a3-b191-61e909047623",
   "metadata": {},
   "source": [
    "# Question 6: \n",
    " Make sure all the work that you have done above is reproducible. That is, you should put the code above into separate functions and be able to re-run the functions and get the same results."
   ]
  },
  {
   "cell_type": "code",
   "execution_count": 51,
   "id": "b13e7fc8-7abd-4eaf-9ef7-b83c6546cd68",
   "metadata": {
    "tags": []
   },
   "outputs": [],
   "source": [
    "def plot_distributions(df):\n",
    "    for col in list(df.columns.drop('Date')):\n",
    "        plt.figure()\n",
    "        sns.histplot(df[col])\n",
    "        plt.title('Distribution of {}'.format(col))"
   ]
  },
  {
   "cell_type": "code",
   "execution_count": null,
   "id": "f4730cd6-23d1-40b9-85ba-a0766221ff52",
   "metadata": {},
   "outputs": [],
   "source": []
  }
 ],
 "metadata": {
  "kernelspec": {
   "display_name": "Python 3 (ipykernel)",
   "language": "python",
   "name": "python3"
  },
  "language_info": {
   "codemirror_mode": {
    "name": "ipython",
    "version": 3
   },
   "file_extension": ".py",
   "mimetype": "text/x-python",
   "name": "python",
   "nbconvert_exporter": "python",
   "pygments_lexer": "ipython3",
   "version": "3.11.4"
  }
 },
 "nbformat": 4,
 "nbformat_minor": 5
}
