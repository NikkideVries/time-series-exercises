{
 "cells": [
  {
   "cell_type": "markdown",
   "id": "b29240fc-1552-4a05-8039-e2d8c5e3de61",
   "metadata": {},
   "source": [
    "# Data Acquisition"
   ]
  },
  {
   "cell_type": "code",
   "execution_count": 1,
   "id": "f198a085-cdc5-45ca-832b-cf834cd9b8fa",
   "metadata": {
    "tags": []
   },
   "outputs": [],
   "source": [
    "# imports \n",
    "import pandas as pd \n",
    "import numpy as np\n",
    "import requests\n",
    "import math"
   ]
  },
  {
   "cell_type": "code",
   "execution_count": 2,
   "id": "5138b284-435d-4b82-946c-6fa28264ad9d",
   "metadata": {
    "tags": []
   },
   "outputs": [],
   "source": [
    "# acquire the response data\n",
    "response = requests.get('https://swapi.dev/api/')"
   ]
  },
  {
   "cell_type": "code",
   "execution_count": 3,
   "id": "2d63f708-97b7-47d5-b279-1134e1596cd7",
   "metadata": {
    "tags": []
   },
   "outputs": [
    {
     "data": {
      "text/plain": [
       "{'people': 'https://swapi.dev/api/people/',\n",
       " 'planets': 'https://swapi.dev/api/planets/',\n",
       " 'films': 'https://swapi.dev/api/films/',\n",
       " 'species': 'https://swapi.dev/api/species/',\n",
       " 'vehicles': 'https://swapi.dev/api/vehicles/',\n",
       " 'starships': 'https://swapi.dev/api/starships/'}"
      ]
     },
     "execution_count": 3,
     "metadata": {},
     "output_type": "execute_result"
    }
   ],
   "source": [
    "data = response.json()\n",
    "data"
   ]
  },
  {
   "cell_type": "markdown",
   "id": "763bd345-9714-4c73-a123-6cc10b98baba",
   "metadata": {},
   "source": [
    "# Question 1: \n",
    "Using the code from the lesson as a guide and the REST API from https://swapi.dev/ as we did in the lesson, create a dataframe named people that has all of the data for `people`."
   ]
  },
  {
   "cell_type": "code",
   "execution_count": 4,
   "id": "31dcf7de-9455-4b03-bdb5-02da49aa480d",
   "metadata": {
    "tags": []
   },
   "outputs": [],
   "source": [
    "# want just the peoples page: \n",
    "response = requests.get('https://swapi.dev/api/people/')"
   ]
  },
  {
   "cell_type": "code",
   "execution_count": 5,
   "id": "47085da3-68ad-4197-8503-d858e3079d3d",
   "metadata": {
    "tags": []
   },
   "outputs": [],
   "source": [
    "# attach a variable: \n",
    "data = response.json()"
   ]
  },
  {
   "cell_type": "code",
   "execution_count": 6,
   "id": "67a4c166-8e8c-43e4-9e92-38dd45793d39",
   "metadata": {
    "tags": []
   },
   "outputs": [
    {
     "data": {
      "text/plain": [
       "82"
      ]
     },
     "execution_count": 6,
     "metadata": {},
     "output_type": "execute_result"
    }
   ],
   "source": [
    "# how many people are there?\n",
    "data['count']"
   ]
  },
  {
   "cell_type": "code",
   "execution_count": 7,
   "id": "9013eb83-1dad-479c-9834-089326ccec16",
   "metadata": {
    "tags": []
   },
   "outputs": [
    {
     "name": "stdout",
     "output_type": "stream",
     "text": [
      "number_of_people: 82\n",
      "next_page: https://swapi.dev/api/people/?page=2\n",
      "previous_page: None\n"
     ]
    }
   ],
   "source": [
    "# lets figure out how many people there are?\n",
    "number_of_people = data['count']\n",
    "next_page = data['next']\n",
    "previous_page = data['previous']\n",
    "\n",
    "print(f'''number_of_people: {number_of_people}\n",
    "next_page: {next_page}\n",
    "previous_page: {previous_page}''')"
   ]
  },
  {
   "cell_type": "code",
   "execution_count": 8,
   "id": "5465f2c1-1865-4600-94af-a3a983b138c4",
   "metadata": {
    "tags": []
   },
   "outputs": [
    {
     "name": "stdout",
     "output_type": "stream",
     "text": [
      "number_of_results: 10\n",
      "max_page: 9\n"
     ]
    }
   ],
   "source": [
    "#lets figure out how many pages there are: \n",
    "number_of_results = len(data['results'])\n",
    "max_page = math.ceil(number_of_people / number_of_results)\n",
    "\n",
    "print(f'''number_of_results: {number_of_results}\n",
    "max_page: {max_page}''')"
   ]
  },
  {
   "cell_type": "code",
   "execution_count": 9,
   "id": "c178b1e2-290e-4745-b290-f05dfc29e5ed",
   "metadata": {
    "tags": []
   },
   "outputs": [
    {
     "data": {
      "text/html": [
       "<div>\n",
       "<style scoped>\n",
       "    .dataframe tbody tr th:only-of-type {\n",
       "        vertical-align: middle;\n",
       "    }\n",
       "\n",
       "    .dataframe tbody tr th {\n",
       "        vertical-align: top;\n",
       "    }\n",
       "\n",
       "    .dataframe thead th {\n",
       "        text-align: right;\n",
       "    }\n",
       "</style>\n",
       "<table border=\"1\" class=\"dataframe\">\n",
       "  <thead>\n",
       "    <tr style=\"text-align: right;\">\n",
       "      <th></th>\n",
       "      <th>name</th>\n",
       "      <th>height</th>\n",
       "      <th>mass</th>\n",
       "      <th>hair_color</th>\n",
       "      <th>skin_color</th>\n",
       "      <th>eye_color</th>\n",
       "      <th>birth_year</th>\n",
       "      <th>gender</th>\n",
       "      <th>homeworld</th>\n",
       "      <th>films</th>\n",
       "      <th>species</th>\n",
       "      <th>vehicles</th>\n",
       "      <th>starships</th>\n",
       "      <th>created</th>\n",
       "      <th>edited</th>\n",
       "      <th>url</th>\n",
       "    </tr>\n",
       "  </thead>\n",
       "  <tbody>\n",
       "    <tr>\n",
       "      <th>0</th>\n",
       "      <td>Luke Skywalker</td>\n",
       "      <td>172</td>\n",
       "      <td>77</td>\n",
       "      <td>blond</td>\n",
       "      <td>fair</td>\n",
       "      <td>blue</td>\n",
       "      <td>19BBY</td>\n",
       "      <td>male</td>\n",
       "      <td>https://swapi.dev/api/planets/1/</td>\n",
       "      <td>[https://swapi.dev/api/films/1/, https://swapi...</td>\n",
       "      <td>[]</td>\n",
       "      <td>[https://swapi.dev/api/vehicles/14/, https://s...</td>\n",
       "      <td>[https://swapi.dev/api/starships/12/, https://...</td>\n",
       "      <td>2014-12-09T13:50:51.644000Z</td>\n",
       "      <td>2014-12-20T21:17:56.891000Z</td>\n",
       "      <td>https://swapi.dev/api/people/1/</td>\n",
       "    </tr>\n",
       "  </tbody>\n",
       "</table>\n",
       "</div>"
      ],
      "text/plain": [
       "             name height mass hair_color skin_color eye_color birth_year  \\\n",
       "0  Luke Skywalker    172   77      blond       fair      blue      19BBY   \n",
       "\n",
       "  gender                         homeworld  \\\n",
       "0   male  https://swapi.dev/api/planets/1/   \n",
       "\n",
       "                                               films species  \\\n",
       "0  [https://swapi.dev/api/films/1/, https://swapi...      []   \n",
       "\n",
       "                                            vehicles  \\\n",
       "0  [https://swapi.dev/api/vehicles/14/, https://s...   \n",
       "\n",
       "                                           starships  \\\n",
       "0  [https://swapi.dev/api/starships/12/, https://...   \n",
       "\n",
       "                       created                       edited  \\\n",
       "0  2014-12-09T13:50:51.644000Z  2014-12-20T21:17:56.891000Z   \n",
       "\n",
       "                               url  \n",
       "0  https://swapi.dev/api/people/1/  "
      ]
     },
     "execution_count": 9,
     "metadata": {},
     "output_type": "execute_result"
    }
   ],
   "source": [
    "# save page on of the data\n",
    "page_1 = pd.DataFrame(data['results'])\n",
    "page_1.head(1)"
   ]
  },
  {
   "cell_type": "code",
   "execution_count": 10,
   "id": "4705ef8d-00cb-4e84-a215-6f791d1fd639",
   "metadata": {
    "scrolled": true,
    "tags": []
   },
   "outputs": [
    {
     "data": {
      "text/html": [
       "<div>\n",
       "<style scoped>\n",
       "    .dataframe tbody tr th:only-of-type {\n",
       "        vertical-align: middle;\n",
       "    }\n",
       "\n",
       "    .dataframe tbody tr th {\n",
       "        vertical-align: top;\n",
       "    }\n",
       "\n",
       "    .dataframe thead th {\n",
       "        text-align: right;\n",
       "    }\n",
       "</style>\n",
       "<table border=\"1\" class=\"dataframe\">\n",
       "  <thead>\n",
       "    <tr style=\"text-align: right;\">\n",
       "      <th></th>\n",
       "      <th>index</th>\n",
       "      <th>name</th>\n",
       "      <th>height</th>\n",
       "      <th>mass</th>\n",
       "      <th>hair_color</th>\n",
       "      <th>skin_color</th>\n",
       "      <th>eye_color</th>\n",
       "      <th>birth_year</th>\n",
       "      <th>gender</th>\n",
       "      <th>homeworld</th>\n",
       "      <th>films</th>\n",
       "      <th>species</th>\n",
       "      <th>vehicles</th>\n",
       "      <th>starships</th>\n",
       "      <th>created</th>\n",
       "      <th>edited</th>\n",
       "      <th>url</th>\n",
       "    </tr>\n",
       "  </thead>\n",
       "  <tbody>\n",
       "    <tr>\n",
       "      <th>0</th>\n",
       "      <td>0</td>\n",
       "      <td>Luke Skywalker</td>\n",
       "      <td>172</td>\n",
       "      <td>77</td>\n",
       "      <td>blond</td>\n",
       "      <td>fair</td>\n",
       "      <td>blue</td>\n",
       "      <td>19BBY</td>\n",
       "      <td>male</td>\n",
       "      <td>https://swapi.dev/api/planets/1/</td>\n",
       "      <td>[https://swapi.dev/api/films/1/, https://swapi...</td>\n",
       "      <td>[]</td>\n",
       "      <td>[https://swapi.dev/api/vehicles/14/, https://s...</td>\n",
       "      <td>[https://swapi.dev/api/starships/12/, https://...</td>\n",
       "      <td>2014-12-09T13:50:51.644000Z</td>\n",
       "      <td>2014-12-20T21:17:56.891000Z</td>\n",
       "      <td>https://swapi.dev/api/people/1/</td>\n",
       "    </tr>\n",
       "    <tr>\n",
       "      <th>1</th>\n",
       "      <td>1</td>\n",
       "      <td>C-3PO</td>\n",
       "      <td>167</td>\n",
       "      <td>75</td>\n",
       "      <td>n/a</td>\n",
       "      <td>gold</td>\n",
       "      <td>yellow</td>\n",
       "      <td>112BBY</td>\n",
       "      <td>n/a</td>\n",
       "      <td>https://swapi.dev/api/planets/1/</td>\n",
       "      <td>[https://swapi.dev/api/films/1/, https://swapi...</td>\n",
       "      <td>[https://swapi.dev/api/species/2/]</td>\n",
       "      <td>[]</td>\n",
       "      <td>[]</td>\n",
       "      <td>2014-12-10T15:10:51.357000Z</td>\n",
       "      <td>2014-12-20T21:17:50.309000Z</td>\n",
       "      <td>https://swapi.dev/api/people/2/</td>\n",
       "    </tr>\n",
       "    <tr>\n",
       "      <th>2</th>\n",
       "      <td>2</td>\n",
       "      <td>R2-D2</td>\n",
       "      <td>96</td>\n",
       "      <td>32</td>\n",
       "      <td>n/a</td>\n",
       "      <td>white, blue</td>\n",
       "      <td>red</td>\n",
       "      <td>33BBY</td>\n",
       "      <td>n/a</td>\n",
       "      <td>https://swapi.dev/api/planets/8/</td>\n",
       "      <td>[https://swapi.dev/api/films/1/, https://swapi...</td>\n",
       "      <td>[https://swapi.dev/api/species/2/]</td>\n",
       "      <td>[]</td>\n",
       "      <td>[]</td>\n",
       "      <td>2014-12-10T15:11:50.376000Z</td>\n",
       "      <td>2014-12-20T21:17:50.311000Z</td>\n",
       "      <td>https://swapi.dev/api/people/3/</td>\n",
       "    </tr>\n",
       "    <tr>\n",
       "      <th>3</th>\n",
       "      <td>3</td>\n",
       "      <td>Darth Vader</td>\n",
       "      <td>202</td>\n",
       "      <td>136</td>\n",
       "      <td>none</td>\n",
       "      <td>white</td>\n",
       "      <td>yellow</td>\n",
       "      <td>41.9BBY</td>\n",
       "      <td>male</td>\n",
       "      <td>https://swapi.dev/api/planets/1/</td>\n",
       "      <td>[https://swapi.dev/api/films/1/, https://swapi...</td>\n",
       "      <td>[]</td>\n",
       "      <td>[]</td>\n",
       "      <td>[https://swapi.dev/api/starships/13/]</td>\n",
       "      <td>2014-12-10T15:18:20.704000Z</td>\n",
       "      <td>2014-12-20T21:17:50.313000Z</td>\n",
       "      <td>https://swapi.dev/api/people/4/</td>\n",
       "    </tr>\n",
       "    <tr>\n",
       "      <th>4</th>\n",
       "      <td>4</td>\n",
       "      <td>Leia Organa</td>\n",
       "      <td>150</td>\n",
       "      <td>49</td>\n",
       "      <td>brown</td>\n",
       "      <td>light</td>\n",
       "      <td>brown</td>\n",
       "      <td>19BBY</td>\n",
       "      <td>female</td>\n",
       "      <td>https://swapi.dev/api/planets/2/</td>\n",
       "      <td>[https://swapi.dev/api/films/1/, https://swapi...</td>\n",
       "      <td>[]</td>\n",
       "      <td>[https://swapi.dev/api/vehicles/30/]</td>\n",
       "      <td>[]</td>\n",
       "      <td>2014-12-10T15:20:09.791000Z</td>\n",
       "      <td>2014-12-20T21:17:50.315000Z</td>\n",
       "      <td>https://swapi.dev/api/people/5/</td>\n",
       "    </tr>\n",
       "    <tr>\n",
       "      <th>5</th>\n",
       "      <td>5</td>\n",
       "      <td>Owen Lars</td>\n",
       "      <td>178</td>\n",
       "      <td>120</td>\n",
       "      <td>brown, grey</td>\n",
       "      <td>light</td>\n",
       "      <td>blue</td>\n",
       "      <td>52BBY</td>\n",
       "      <td>male</td>\n",
       "      <td>https://swapi.dev/api/planets/1/</td>\n",
       "      <td>[https://swapi.dev/api/films/1/, https://swapi...</td>\n",
       "      <td>[]</td>\n",
       "      <td>[]</td>\n",
       "      <td>[]</td>\n",
       "      <td>2014-12-10T15:52:14.024000Z</td>\n",
       "      <td>2014-12-20T21:17:50.317000Z</td>\n",
       "      <td>https://swapi.dev/api/people/6/</td>\n",
       "    </tr>\n",
       "    <tr>\n",
       "      <th>6</th>\n",
       "      <td>6</td>\n",
       "      <td>Beru Whitesun lars</td>\n",
       "      <td>165</td>\n",
       "      <td>75</td>\n",
       "      <td>brown</td>\n",
       "      <td>light</td>\n",
       "      <td>blue</td>\n",
       "      <td>47BBY</td>\n",
       "      <td>female</td>\n",
       "      <td>https://swapi.dev/api/planets/1/</td>\n",
       "      <td>[https://swapi.dev/api/films/1/, https://swapi...</td>\n",
       "      <td>[]</td>\n",
       "      <td>[]</td>\n",
       "      <td>[]</td>\n",
       "      <td>2014-12-10T15:53:41.121000Z</td>\n",
       "      <td>2014-12-20T21:17:50.319000Z</td>\n",
       "      <td>https://swapi.dev/api/people/7/</td>\n",
       "    </tr>\n",
       "    <tr>\n",
       "      <th>7</th>\n",
       "      <td>7</td>\n",
       "      <td>R5-D4</td>\n",
       "      <td>97</td>\n",
       "      <td>32</td>\n",
       "      <td>n/a</td>\n",
       "      <td>white, red</td>\n",
       "      <td>red</td>\n",
       "      <td>unknown</td>\n",
       "      <td>n/a</td>\n",
       "      <td>https://swapi.dev/api/planets/1/</td>\n",
       "      <td>[https://swapi.dev/api/films/1/]</td>\n",
       "      <td>[https://swapi.dev/api/species/2/]</td>\n",
       "      <td>[]</td>\n",
       "      <td>[]</td>\n",
       "      <td>2014-12-10T15:57:50.959000Z</td>\n",
       "      <td>2014-12-20T21:17:50.321000Z</td>\n",
       "      <td>https://swapi.dev/api/people/8/</td>\n",
       "    </tr>\n",
       "    <tr>\n",
       "      <th>8</th>\n",
       "      <td>8</td>\n",
       "      <td>Biggs Darklighter</td>\n",
       "      <td>183</td>\n",
       "      <td>84</td>\n",
       "      <td>black</td>\n",
       "      <td>light</td>\n",
       "      <td>brown</td>\n",
       "      <td>24BBY</td>\n",
       "      <td>male</td>\n",
       "      <td>https://swapi.dev/api/planets/1/</td>\n",
       "      <td>[https://swapi.dev/api/films/1/]</td>\n",
       "      <td>[]</td>\n",
       "      <td>[]</td>\n",
       "      <td>[https://swapi.dev/api/starships/12/]</td>\n",
       "      <td>2014-12-10T15:59:50.509000Z</td>\n",
       "      <td>2014-12-20T21:17:50.323000Z</td>\n",
       "      <td>https://swapi.dev/api/people/9/</td>\n",
       "    </tr>\n",
       "    <tr>\n",
       "      <th>9</th>\n",
       "      <td>9</td>\n",
       "      <td>Obi-Wan Kenobi</td>\n",
       "      <td>182</td>\n",
       "      <td>77</td>\n",
       "      <td>auburn, white</td>\n",
       "      <td>fair</td>\n",
       "      <td>blue-gray</td>\n",
       "      <td>57BBY</td>\n",
       "      <td>male</td>\n",
       "      <td>https://swapi.dev/api/planets/20/</td>\n",
       "      <td>[https://swapi.dev/api/films/1/, https://swapi...</td>\n",
       "      <td>[]</td>\n",
       "      <td>[https://swapi.dev/api/vehicles/38/]</td>\n",
       "      <td>[https://swapi.dev/api/starships/48/, https://...</td>\n",
       "      <td>2014-12-10T16:16:29.192000Z</td>\n",
       "      <td>2014-12-20T21:17:50.325000Z</td>\n",
       "      <td>https://swapi.dev/api/people/10/</td>\n",
       "    </tr>\n",
       "    <tr>\n",
       "      <th>10</th>\n",
       "      <td>0</td>\n",
       "      <td>Anakin Skywalker</td>\n",
       "      <td>188</td>\n",
       "      <td>84</td>\n",
       "      <td>blond</td>\n",
       "      <td>fair</td>\n",
       "      <td>blue</td>\n",
       "      <td>41.9BBY</td>\n",
       "      <td>male</td>\n",
       "      <td>https://swapi.dev/api/planets/1/</td>\n",
       "      <td>[https://swapi.dev/api/films/4/, https://swapi...</td>\n",
       "      <td>[]</td>\n",
       "      <td>[https://swapi.dev/api/vehicles/44/, https://s...</td>\n",
       "      <td>[https://swapi.dev/api/starships/39/, https://...</td>\n",
       "      <td>2014-12-10T16:20:44.310000Z</td>\n",
       "      <td>2014-12-20T21:17:50.327000Z</td>\n",
       "      <td>https://swapi.dev/api/people/11/</td>\n",
       "    </tr>\n",
       "    <tr>\n",
       "      <th>11</th>\n",
       "      <td>1</td>\n",
       "      <td>Wilhuff Tarkin</td>\n",
       "      <td>180</td>\n",
       "      <td>unknown</td>\n",
       "      <td>auburn, grey</td>\n",
       "      <td>fair</td>\n",
       "      <td>blue</td>\n",
       "      <td>64BBY</td>\n",
       "      <td>male</td>\n",
       "      <td>https://swapi.dev/api/planets/21/</td>\n",
       "      <td>[https://swapi.dev/api/films/1/, https://swapi...</td>\n",
       "      <td>[]</td>\n",
       "      <td>[]</td>\n",
       "      <td>[]</td>\n",
       "      <td>2014-12-10T16:26:56.138000Z</td>\n",
       "      <td>2014-12-20T21:17:50.330000Z</td>\n",
       "      <td>https://swapi.dev/api/people/12/</td>\n",
       "    </tr>\n",
       "    <tr>\n",
       "      <th>12</th>\n",
       "      <td>2</td>\n",
       "      <td>Chewbacca</td>\n",
       "      <td>228</td>\n",
       "      <td>112</td>\n",
       "      <td>brown</td>\n",
       "      <td>unknown</td>\n",
       "      <td>blue</td>\n",
       "      <td>200BBY</td>\n",
       "      <td>male</td>\n",
       "      <td>https://swapi.dev/api/planets/14/</td>\n",
       "      <td>[https://swapi.dev/api/films/1/, https://swapi...</td>\n",
       "      <td>[https://swapi.dev/api/species/3/]</td>\n",
       "      <td>[https://swapi.dev/api/vehicles/19/]</td>\n",
       "      <td>[https://swapi.dev/api/starships/10/, https://...</td>\n",
       "      <td>2014-12-10T16:42:45.066000Z</td>\n",
       "      <td>2014-12-20T21:17:50.332000Z</td>\n",
       "      <td>https://swapi.dev/api/people/13/</td>\n",
       "    </tr>\n",
       "    <tr>\n",
       "      <th>13</th>\n",
       "      <td>3</td>\n",
       "      <td>Han Solo</td>\n",
       "      <td>180</td>\n",
       "      <td>80</td>\n",
       "      <td>brown</td>\n",
       "      <td>fair</td>\n",
       "      <td>brown</td>\n",
       "      <td>29BBY</td>\n",
       "      <td>male</td>\n",
       "      <td>https://swapi.dev/api/planets/22/</td>\n",
       "      <td>[https://swapi.dev/api/films/1/, https://swapi...</td>\n",
       "      <td>[]</td>\n",
       "      <td>[]</td>\n",
       "      <td>[https://swapi.dev/api/starships/10/, https://...</td>\n",
       "      <td>2014-12-10T16:49:14.582000Z</td>\n",
       "      <td>2014-12-20T21:17:50.334000Z</td>\n",
       "      <td>https://swapi.dev/api/people/14/</td>\n",
       "    </tr>\n",
       "    <tr>\n",
       "      <th>14</th>\n",
       "      <td>4</td>\n",
       "      <td>Greedo</td>\n",
       "      <td>173</td>\n",
       "      <td>74</td>\n",
       "      <td>n/a</td>\n",
       "      <td>green</td>\n",
       "      <td>black</td>\n",
       "      <td>44BBY</td>\n",
       "      <td>male</td>\n",
       "      <td>https://swapi.dev/api/planets/23/</td>\n",
       "      <td>[https://swapi.dev/api/films/1/]</td>\n",
       "      <td>[https://swapi.dev/api/species/4/]</td>\n",
       "      <td>[]</td>\n",
       "      <td>[]</td>\n",
       "      <td>2014-12-10T17:03:30.334000Z</td>\n",
       "      <td>2014-12-20T21:17:50.336000Z</td>\n",
       "      <td>https://swapi.dev/api/people/15/</td>\n",
       "    </tr>\n",
       "    <tr>\n",
       "      <th>15</th>\n",
       "      <td>5</td>\n",
       "      <td>Jabba Desilijic Tiure</td>\n",
       "      <td>175</td>\n",
       "      <td>1,358</td>\n",
       "      <td>n/a</td>\n",
       "      <td>green-tan, brown</td>\n",
       "      <td>orange</td>\n",
       "      <td>600BBY</td>\n",
       "      <td>hermaphrodite</td>\n",
       "      <td>https://swapi.dev/api/planets/24/</td>\n",
       "      <td>[https://swapi.dev/api/films/1/, https://swapi...</td>\n",
       "      <td>[https://swapi.dev/api/species/5/]</td>\n",
       "      <td>[]</td>\n",
       "      <td>[]</td>\n",
       "      <td>2014-12-10T17:11:31.638000Z</td>\n",
       "      <td>2014-12-20T21:17:50.338000Z</td>\n",
       "      <td>https://swapi.dev/api/people/16/</td>\n",
       "    </tr>\n",
       "    <tr>\n",
       "      <th>16</th>\n",
       "      <td>6</td>\n",
       "      <td>Wedge Antilles</td>\n",
       "      <td>170</td>\n",
       "      <td>77</td>\n",
       "      <td>brown</td>\n",
       "      <td>fair</td>\n",
       "      <td>hazel</td>\n",
       "      <td>21BBY</td>\n",
       "      <td>male</td>\n",
       "      <td>https://swapi.dev/api/planets/22/</td>\n",
       "      <td>[https://swapi.dev/api/films/1/, https://swapi...</td>\n",
       "      <td>[]</td>\n",
       "      <td>[https://swapi.dev/api/vehicles/14/]</td>\n",
       "      <td>[https://swapi.dev/api/starships/12/]</td>\n",
       "      <td>2014-12-12T11:08:06.469000Z</td>\n",
       "      <td>2014-12-20T21:17:50.341000Z</td>\n",
       "      <td>https://swapi.dev/api/people/18/</td>\n",
       "    </tr>\n",
       "    <tr>\n",
       "      <th>17</th>\n",
       "      <td>7</td>\n",
       "      <td>Jek Tono Porkins</td>\n",
       "      <td>180</td>\n",
       "      <td>110</td>\n",
       "      <td>brown</td>\n",
       "      <td>fair</td>\n",
       "      <td>blue</td>\n",
       "      <td>unknown</td>\n",
       "      <td>male</td>\n",
       "      <td>https://swapi.dev/api/planets/26/</td>\n",
       "      <td>[https://swapi.dev/api/films/1/]</td>\n",
       "      <td>[]</td>\n",
       "      <td>[]</td>\n",
       "      <td>[https://swapi.dev/api/starships/12/]</td>\n",
       "      <td>2014-12-12T11:16:56.569000Z</td>\n",
       "      <td>2014-12-20T21:17:50.343000Z</td>\n",
       "      <td>https://swapi.dev/api/people/19/</td>\n",
       "    </tr>\n",
       "    <tr>\n",
       "      <th>18</th>\n",
       "      <td>8</td>\n",
       "      <td>Yoda</td>\n",
       "      <td>66</td>\n",
       "      <td>17</td>\n",
       "      <td>white</td>\n",
       "      <td>green</td>\n",
       "      <td>brown</td>\n",
       "      <td>896BBY</td>\n",
       "      <td>male</td>\n",
       "      <td>https://swapi.dev/api/planets/28/</td>\n",
       "      <td>[https://swapi.dev/api/films/2/, https://swapi...</td>\n",
       "      <td>[https://swapi.dev/api/species/6/]</td>\n",
       "      <td>[]</td>\n",
       "      <td>[]</td>\n",
       "      <td>2014-12-15T12:26:01.042000Z</td>\n",
       "      <td>2014-12-20T21:17:50.345000Z</td>\n",
       "      <td>https://swapi.dev/api/people/20/</td>\n",
       "    </tr>\n",
       "    <tr>\n",
       "      <th>19</th>\n",
       "      <td>9</td>\n",
       "      <td>Palpatine</td>\n",
       "      <td>170</td>\n",
       "      <td>75</td>\n",
       "      <td>grey</td>\n",
       "      <td>pale</td>\n",
       "      <td>yellow</td>\n",
       "      <td>82BBY</td>\n",
       "      <td>male</td>\n",
       "      <td>https://swapi.dev/api/planets/8/</td>\n",
       "      <td>[https://swapi.dev/api/films/2/, https://swapi...</td>\n",
       "      <td>[]</td>\n",
       "      <td>[]</td>\n",
       "      <td>[]</td>\n",
       "      <td>2014-12-15T12:48:05.971000Z</td>\n",
       "      <td>2014-12-20T21:17:50.347000Z</td>\n",
       "      <td>https://swapi.dev/api/people/21/</td>\n",
       "    </tr>\n",
       "  </tbody>\n",
       "</table>\n",
       "</div>"
      ],
      "text/plain": [
       "    index                   name height     mass     hair_color  \\\n",
       "0       0         Luke Skywalker    172       77          blond   \n",
       "1       1                  C-3PO    167       75            n/a   \n",
       "2       2                  R2-D2     96       32            n/a   \n",
       "3       3            Darth Vader    202      136           none   \n",
       "4       4            Leia Organa    150       49          brown   \n",
       "5       5              Owen Lars    178      120    brown, grey   \n",
       "6       6     Beru Whitesun lars    165       75          brown   \n",
       "7       7                  R5-D4     97       32            n/a   \n",
       "8       8      Biggs Darklighter    183       84          black   \n",
       "9       9         Obi-Wan Kenobi    182       77  auburn, white   \n",
       "10      0       Anakin Skywalker    188       84          blond   \n",
       "11      1         Wilhuff Tarkin    180  unknown   auburn, grey   \n",
       "12      2              Chewbacca    228      112          brown   \n",
       "13      3               Han Solo    180       80          brown   \n",
       "14      4                 Greedo    173       74            n/a   \n",
       "15      5  Jabba Desilijic Tiure    175    1,358            n/a   \n",
       "16      6         Wedge Antilles    170       77          brown   \n",
       "17      7       Jek Tono Porkins    180      110          brown   \n",
       "18      8                   Yoda     66       17          white   \n",
       "19      9              Palpatine    170       75           grey   \n",
       "\n",
       "          skin_color  eye_color birth_year         gender  \\\n",
       "0               fair       blue      19BBY           male   \n",
       "1               gold     yellow     112BBY            n/a   \n",
       "2        white, blue        red      33BBY            n/a   \n",
       "3              white     yellow    41.9BBY           male   \n",
       "4              light      brown      19BBY         female   \n",
       "5              light       blue      52BBY           male   \n",
       "6              light       blue      47BBY         female   \n",
       "7         white, red        red    unknown            n/a   \n",
       "8              light      brown      24BBY           male   \n",
       "9               fair  blue-gray      57BBY           male   \n",
       "10              fair       blue    41.9BBY           male   \n",
       "11              fair       blue      64BBY           male   \n",
       "12           unknown       blue     200BBY           male   \n",
       "13              fair      brown      29BBY           male   \n",
       "14             green      black      44BBY           male   \n",
       "15  green-tan, brown     orange     600BBY  hermaphrodite   \n",
       "16              fair      hazel      21BBY           male   \n",
       "17              fair       blue    unknown           male   \n",
       "18             green      brown     896BBY           male   \n",
       "19              pale     yellow      82BBY           male   \n",
       "\n",
       "                            homeworld  \\\n",
       "0    https://swapi.dev/api/planets/1/   \n",
       "1    https://swapi.dev/api/planets/1/   \n",
       "2    https://swapi.dev/api/planets/8/   \n",
       "3    https://swapi.dev/api/planets/1/   \n",
       "4    https://swapi.dev/api/planets/2/   \n",
       "5    https://swapi.dev/api/planets/1/   \n",
       "6    https://swapi.dev/api/planets/1/   \n",
       "7    https://swapi.dev/api/planets/1/   \n",
       "8    https://swapi.dev/api/planets/1/   \n",
       "9   https://swapi.dev/api/planets/20/   \n",
       "10   https://swapi.dev/api/planets/1/   \n",
       "11  https://swapi.dev/api/planets/21/   \n",
       "12  https://swapi.dev/api/planets/14/   \n",
       "13  https://swapi.dev/api/planets/22/   \n",
       "14  https://swapi.dev/api/planets/23/   \n",
       "15  https://swapi.dev/api/planets/24/   \n",
       "16  https://swapi.dev/api/planets/22/   \n",
       "17  https://swapi.dev/api/planets/26/   \n",
       "18  https://swapi.dev/api/planets/28/   \n",
       "19   https://swapi.dev/api/planets/8/   \n",
       "\n",
       "                                                films  \\\n",
       "0   [https://swapi.dev/api/films/1/, https://swapi...   \n",
       "1   [https://swapi.dev/api/films/1/, https://swapi...   \n",
       "2   [https://swapi.dev/api/films/1/, https://swapi...   \n",
       "3   [https://swapi.dev/api/films/1/, https://swapi...   \n",
       "4   [https://swapi.dev/api/films/1/, https://swapi...   \n",
       "5   [https://swapi.dev/api/films/1/, https://swapi...   \n",
       "6   [https://swapi.dev/api/films/1/, https://swapi...   \n",
       "7                    [https://swapi.dev/api/films/1/]   \n",
       "8                    [https://swapi.dev/api/films/1/]   \n",
       "9   [https://swapi.dev/api/films/1/, https://swapi...   \n",
       "10  [https://swapi.dev/api/films/4/, https://swapi...   \n",
       "11  [https://swapi.dev/api/films/1/, https://swapi...   \n",
       "12  [https://swapi.dev/api/films/1/, https://swapi...   \n",
       "13  [https://swapi.dev/api/films/1/, https://swapi...   \n",
       "14                   [https://swapi.dev/api/films/1/]   \n",
       "15  [https://swapi.dev/api/films/1/, https://swapi...   \n",
       "16  [https://swapi.dev/api/films/1/, https://swapi...   \n",
       "17                   [https://swapi.dev/api/films/1/]   \n",
       "18  [https://swapi.dev/api/films/2/, https://swapi...   \n",
       "19  [https://swapi.dev/api/films/2/, https://swapi...   \n",
       "\n",
       "                               species  \\\n",
       "0                                   []   \n",
       "1   [https://swapi.dev/api/species/2/]   \n",
       "2   [https://swapi.dev/api/species/2/]   \n",
       "3                                   []   \n",
       "4                                   []   \n",
       "5                                   []   \n",
       "6                                   []   \n",
       "7   [https://swapi.dev/api/species/2/]   \n",
       "8                                   []   \n",
       "9                                   []   \n",
       "10                                  []   \n",
       "11                                  []   \n",
       "12  [https://swapi.dev/api/species/3/]   \n",
       "13                                  []   \n",
       "14  [https://swapi.dev/api/species/4/]   \n",
       "15  [https://swapi.dev/api/species/5/]   \n",
       "16                                  []   \n",
       "17                                  []   \n",
       "18  [https://swapi.dev/api/species/6/]   \n",
       "19                                  []   \n",
       "\n",
       "                                             vehicles  \\\n",
       "0   [https://swapi.dev/api/vehicles/14/, https://s...   \n",
       "1                                                  []   \n",
       "2                                                  []   \n",
       "3                                                  []   \n",
       "4                [https://swapi.dev/api/vehicles/30/]   \n",
       "5                                                  []   \n",
       "6                                                  []   \n",
       "7                                                  []   \n",
       "8                                                  []   \n",
       "9                [https://swapi.dev/api/vehicles/38/]   \n",
       "10  [https://swapi.dev/api/vehicles/44/, https://s...   \n",
       "11                                                 []   \n",
       "12               [https://swapi.dev/api/vehicles/19/]   \n",
       "13                                                 []   \n",
       "14                                                 []   \n",
       "15                                                 []   \n",
       "16               [https://swapi.dev/api/vehicles/14/]   \n",
       "17                                                 []   \n",
       "18                                                 []   \n",
       "19                                                 []   \n",
       "\n",
       "                                            starships  \\\n",
       "0   [https://swapi.dev/api/starships/12/, https://...   \n",
       "1                                                  []   \n",
       "2                                                  []   \n",
       "3               [https://swapi.dev/api/starships/13/]   \n",
       "4                                                  []   \n",
       "5                                                  []   \n",
       "6                                                  []   \n",
       "7                                                  []   \n",
       "8               [https://swapi.dev/api/starships/12/]   \n",
       "9   [https://swapi.dev/api/starships/48/, https://...   \n",
       "10  [https://swapi.dev/api/starships/39/, https://...   \n",
       "11                                                 []   \n",
       "12  [https://swapi.dev/api/starships/10/, https://...   \n",
       "13  [https://swapi.dev/api/starships/10/, https://...   \n",
       "14                                                 []   \n",
       "15                                                 []   \n",
       "16              [https://swapi.dev/api/starships/12/]   \n",
       "17              [https://swapi.dev/api/starships/12/]   \n",
       "18                                                 []   \n",
       "19                                                 []   \n",
       "\n",
       "                        created                       edited  \\\n",
       "0   2014-12-09T13:50:51.644000Z  2014-12-20T21:17:56.891000Z   \n",
       "1   2014-12-10T15:10:51.357000Z  2014-12-20T21:17:50.309000Z   \n",
       "2   2014-12-10T15:11:50.376000Z  2014-12-20T21:17:50.311000Z   \n",
       "3   2014-12-10T15:18:20.704000Z  2014-12-20T21:17:50.313000Z   \n",
       "4   2014-12-10T15:20:09.791000Z  2014-12-20T21:17:50.315000Z   \n",
       "5   2014-12-10T15:52:14.024000Z  2014-12-20T21:17:50.317000Z   \n",
       "6   2014-12-10T15:53:41.121000Z  2014-12-20T21:17:50.319000Z   \n",
       "7   2014-12-10T15:57:50.959000Z  2014-12-20T21:17:50.321000Z   \n",
       "8   2014-12-10T15:59:50.509000Z  2014-12-20T21:17:50.323000Z   \n",
       "9   2014-12-10T16:16:29.192000Z  2014-12-20T21:17:50.325000Z   \n",
       "10  2014-12-10T16:20:44.310000Z  2014-12-20T21:17:50.327000Z   \n",
       "11  2014-12-10T16:26:56.138000Z  2014-12-20T21:17:50.330000Z   \n",
       "12  2014-12-10T16:42:45.066000Z  2014-12-20T21:17:50.332000Z   \n",
       "13  2014-12-10T16:49:14.582000Z  2014-12-20T21:17:50.334000Z   \n",
       "14  2014-12-10T17:03:30.334000Z  2014-12-20T21:17:50.336000Z   \n",
       "15  2014-12-10T17:11:31.638000Z  2014-12-20T21:17:50.338000Z   \n",
       "16  2014-12-12T11:08:06.469000Z  2014-12-20T21:17:50.341000Z   \n",
       "17  2014-12-12T11:16:56.569000Z  2014-12-20T21:17:50.343000Z   \n",
       "18  2014-12-15T12:26:01.042000Z  2014-12-20T21:17:50.345000Z   \n",
       "19  2014-12-15T12:48:05.971000Z  2014-12-20T21:17:50.347000Z   \n",
       "\n",
       "                                 url  \n",
       "0    https://swapi.dev/api/people/1/  \n",
       "1    https://swapi.dev/api/people/2/  \n",
       "2    https://swapi.dev/api/people/3/  \n",
       "3    https://swapi.dev/api/people/4/  \n",
       "4    https://swapi.dev/api/people/5/  \n",
       "5    https://swapi.dev/api/people/6/  \n",
       "6    https://swapi.dev/api/people/7/  \n",
       "7    https://swapi.dev/api/people/8/  \n",
       "8    https://swapi.dev/api/people/9/  \n",
       "9   https://swapi.dev/api/people/10/  \n",
       "10  https://swapi.dev/api/people/11/  \n",
       "11  https://swapi.dev/api/people/12/  \n",
       "12  https://swapi.dev/api/people/13/  \n",
       "13  https://swapi.dev/api/people/14/  \n",
       "14  https://swapi.dev/api/people/15/  \n",
       "15  https://swapi.dev/api/people/16/  \n",
       "16  https://swapi.dev/api/people/18/  \n",
       "17  https://swapi.dev/api/people/19/  \n",
       "18  https://swapi.dev/api/people/20/  \n",
       "19  https://swapi.dev/api/people/21/  "
      ]
     },
     "execution_count": 10,
     "metadata": {},
     "output_type": "execute_result"
    }
   ],
   "source": [
    "# get page 2: \n",
    "response = requests.get(data['next'])\n",
    "# save the data to a json\n",
    "data = response.json()\n",
    "# save the data as a data frame:\n",
    "page_2 = pd.DataFrame(data['results'])\n",
    "# add it to the data frame\n",
    "df = pd.concat([page_1, page_2]).reset_index()\n",
    "df"
   ]
  },
  {
   "cell_type": "code",
   "execution_count": 11,
   "id": "cb092584-e154-4fb8-a7df-04846b76db17",
   "metadata": {
    "tags": []
   },
   "outputs": [],
   "source": [
    "# add the third page: \n",
    "response = requests.get(data['next'])\n",
    "# save the data to a json\n",
    "data = response.json()\n",
    "# save the data as a data frame:\n",
    "page_3 = pd.DataFrame(data['results'])\n",
    "# add it to the data frame\n",
    "df = pd.concat([df, page_3]).reset_index()"
   ]
  },
  {
   "cell_type": "code",
   "execution_count": 12,
   "id": "9555fcc0-2d1b-42f1-8a51-f43fb57fe554",
   "metadata": {
    "tags": []
   },
   "outputs": [],
   "source": [
    "# create a loop: \n",
    "\n",
    "# create the empty dataframe:\n",
    "df = pd.DataFrame()\n",
    "\n",
    "# base url: \n",
    "base_url = 'https://swapi.dev/api/people/'\n",
    "\n",
    "# pages:\n",
    "num_pages = 9\n",
    "\n",
    "# loop\n",
    "for page in range(1,num_pages + 1):\n",
    "    \n",
    "    #make url \n",
    "    current_url = (f'{base_url}?page={page}')\n",
    "    \n",
    "    # get the data: \n",
    "    response = requests.get(current_url)\n",
    "    data = response.json()\n",
    "    \n",
    "    # Extract results for the current page\n",
    "    current_page = pd.DataFrame(data['results'])\n",
    "    \n",
    "    # Concatenate the results to the main DataFrame\n",
    "    df = pd.concat([df, current_page], ignore_index=True)"
   ]
  },
  {
   "cell_type": "code",
   "execution_count": 13,
   "id": "750ec4fd-b6e3-4002-a42b-c36c0240b83a",
   "metadata": {
    "tags": []
   },
   "outputs": [
    {
     "name": "stdout",
     "output_type": "stream",
     "text": [
      "<class 'pandas.core.frame.DataFrame'>\n",
      "RangeIndex: 82 entries, 0 to 81\n",
      "Data columns (total 16 columns):\n",
      " #   Column      Non-Null Count  Dtype \n",
      "---  ------      --------------  ----- \n",
      " 0   name        82 non-null     object\n",
      " 1   height      82 non-null     object\n",
      " 2   mass        82 non-null     object\n",
      " 3   hair_color  82 non-null     object\n",
      " 4   skin_color  82 non-null     object\n",
      " 5   eye_color   82 non-null     object\n",
      " 6   birth_year  82 non-null     object\n",
      " 7   gender      82 non-null     object\n",
      " 8   homeworld   82 non-null     object\n",
      " 9   films       82 non-null     object\n",
      " 10  species     82 non-null     object\n",
      " 11  vehicles    82 non-null     object\n",
      " 12  starships   82 non-null     object\n",
      " 13  created     82 non-null     object\n",
      " 14  edited      82 non-null     object\n",
      " 15  url         82 non-null     object\n",
      "dtypes: object(16)\n",
      "memory usage: 10.4+ KB\n"
     ]
    }
   ],
   "source": [
    "df.info()"
   ]
  },
  {
   "cell_type": "markdown",
   "id": "9bbb81f3-7c95-4d2a-ad0c-4601cc2cbea9",
   "metadata": {},
   "source": [
    "# Question 2: \n",
    "Do the same thing, but for `planets`."
   ]
  },
  {
   "cell_type": "code",
   "execution_count": 14,
   "id": "08a63f0a-56b5-4e06-83ac-7307e18f000b",
   "metadata": {
    "tags": []
   },
   "outputs": [],
   "source": [
    "# want just the peoples page: \n",
    "response = requests.get('https://swapi.dev/api/planets/')"
   ]
  },
  {
   "cell_type": "code",
   "execution_count": 15,
   "id": "e6e1963a-6934-4a97-bc4c-247b300d2db3",
   "metadata": {
    "tags": []
   },
   "outputs": [],
   "source": [
    "# attach a variable: \n",
    "data = response.json()"
   ]
  },
  {
   "cell_type": "code",
   "execution_count": 16,
   "id": "93dc45a4-ff15-44d2-9ebc-e177c2af3f2c",
   "metadata": {
    "tags": []
   },
   "outputs": [
    {
     "name": "stdout",
     "output_type": "stream",
     "text": [
      "number_of_planets: 60\n",
      "next_page: https://swapi.dev/api/planets/?page=2\n",
      "previous_page: None\n"
     ]
    }
   ],
   "source": [
    "# lets figure out how many planets there are?\n",
    "number_of_planets = data['count']\n",
    "next_page = data['next']\n",
    "previous_page = data['previous']\n",
    "\n",
    "print(f'''number_of_planets: {number_of_planets}\n",
    "next_page: {next_page}\n",
    "previous_page: {previous_page}''')"
   ]
  },
  {
   "cell_type": "code",
   "execution_count": 17,
   "id": "f8a9b054-56ce-44f5-9143-759b91abb86b",
   "metadata": {
    "tags": []
   },
   "outputs": [
    {
     "name": "stdout",
     "output_type": "stream",
     "text": [
      "number_of_results: 10\n",
      "max_page: 6\n"
     ]
    }
   ],
   "source": [
    "#lets figure out how many pages there are: \n",
    "number_of_results = len(data['results'])\n",
    "max_page = math.ceil(number_of_planets / number_of_results)\n",
    "\n",
    "print(f'''number_of_results: {number_of_results}\n",
    "max_page: {max_page}''')"
   ]
  },
  {
   "cell_type": "code",
   "execution_count": 18,
   "id": "278117e8-a876-4047-80f5-02559947c6bd",
   "metadata": {
    "tags": []
   },
   "outputs": [],
   "source": [
    "# for loop: \n",
    "df = pd.DataFrame() \n",
    "base_url = 'https://swapi.dev/api/planets/'\n",
    "\n",
    "# pages:\n",
    "num_pages = 6\n",
    "\n",
    "# loop\n",
    "for page in range(1,num_pages + 1):\n",
    "    \n",
    "    #make url \n",
    "    current_url = (f'{base_url}?page={page}')\n",
    "    \n",
    "    # get the data: \n",
    "    response = requests.get(current_url)\n",
    "    data = response.json()\n",
    "    \n",
    "    # Extract results for the current page\n",
    "    current_page = pd.DataFrame(data['results'])\n",
    "    \n",
    "    # Concatenate the results to the main DataFrame\n",
    "    df = pd.concat([df, current_page], ignore_index=True)"
   ]
  },
  {
   "cell_type": "code",
   "execution_count": 19,
   "id": "eea38363-3859-4e77-8b37-b2da10ccf020",
   "metadata": {
    "tags": []
   },
   "outputs": [
    {
     "name": "stdout",
     "output_type": "stream",
     "text": [
      "<class 'pandas.core.frame.DataFrame'>\n",
      "RangeIndex: 60 entries, 0 to 59\n",
      "Data columns (total 14 columns):\n",
      " #   Column           Non-Null Count  Dtype \n",
      "---  ------           --------------  ----- \n",
      " 0   name             60 non-null     object\n",
      " 1   rotation_period  60 non-null     object\n",
      " 2   orbital_period   60 non-null     object\n",
      " 3   diameter         60 non-null     object\n",
      " 4   climate          60 non-null     object\n",
      " 5   gravity          60 non-null     object\n",
      " 6   terrain          60 non-null     object\n",
      " 7   surface_water    60 non-null     object\n",
      " 8   population       60 non-null     object\n",
      " 9   residents        60 non-null     object\n",
      " 10  films            60 non-null     object\n",
      " 11  created          60 non-null     object\n",
      " 12  edited           60 non-null     object\n",
      " 13  url              60 non-null     object\n",
      "dtypes: object(14)\n",
      "memory usage: 6.7+ KB\n"
     ]
    }
   ],
   "source": [
    "df.info()"
   ]
  },
  {
   "cell_type": "markdown",
   "id": "37f12c94-89fd-4ac6-9822-24198e734dd4",
   "metadata": {},
   "source": [
    "# Question 3: \n",
    "Extract the data for `starships`."
   ]
  },
  {
   "cell_type": "code",
   "execution_count": 20,
   "id": "dc29f19a-3937-4a8a-82d3-0dc15cdc8ca2",
   "metadata": {
    "tags": []
   },
   "outputs": [],
   "source": [
    "# want just the peoples page: \n",
    "response = requests.get('https://swapi.dev/api/starships/')"
   ]
  },
  {
   "cell_type": "code",
   "execution_count": 21,
   "id": "2d77e46f-1223-4cbc-b797-dd86c309cd91",
   "metadata": {
    "tags": []
   },
   "outputs": [],
   "source": [
    "# attach a variable: \n",
    "data = response.json()"
   ]
  },
  {
   "cell_type": "code",
   "execution_count": 22,
   "id": "dcc6120d-2ac5-4e73-aa60-f68c269be98f",
   "metadata": {
    "tags": []
   },
   "outputs": [
    {
     "name": "stdout",
     "output_type": "stream",
     "text": [
      "number_of_starships: 36\n",
      "next_page: https://swapi.dev/api/starships/?page=2\n",
      "previous_page: None\n"
     ]
    }
   ],
   "source": [
    "# lets figure out how many planets there are?\n",
    "number_of_starships = data['count']\n",
    "next_page = data['next']\n",
    "previous_page = data['previous']\n",
    "\n",
    "print(f'''number_of_starships: {number_of_starships}\n",
    "next_page: {next_page}\n",
    "previous_page: {previous_page}''')"
   ]
  },
  {
   "cell_type": "code",
   "execution_count": 23,
   "id": "950239dc-c968-4ee9-808d-11889ce56744",
   "metadata": {
    "tags": []
   },
   "outputs": [
    {
     "name": "stdout",
     "output_type": "stream",
     "text": [
      "number_of_results: 10\n",
      "max_page: 4\n"
     ]
    }
   ],
   "source": [
    "#lets figure out how many pages there are: \n",
    "number_of_results = len(data['results'])\n",
    "max_page = math.ceil(number_of_starships / number_of_results)\n",
    "\n",
    "print(f'''number_of_results: {number_of_results}\n",
    "max_page: {max_page}''')"
   ]
  },
  {
   "cell_type": "code",
   "execution_count": 24,
   "id": "e2285c81-4c9c-4a78-b6c8-996a8513e7e5",
   "metadata": {
    "tags": []
   },
   "outputs": [],
   "source": [
    "# for loop: \n",
    "df = pd.DataFrame() \n",
    "base_url = 'https://swapi.dev/api/starships/'\n",
    "\n",
    "# pages:\n",
    "num_pages = 4\n",
    "\n",
    "# loop\n",
    "for page in range(1,num_pages + 1):\n",
    "    \n",
    "    #make url \n",
    "    current_url = (f'{base_url}?page={page}')\n",
    "    \n",
    "    # get the data: \n",
    "    response = requests.get(current_url)\n",
    "    data = response.json()\n",
    "    \n",
    "    # Extract results for the current page\n",
    "    current_page = pd.DataFrame(data['results'])\n",
    "    \n",
    "    # Concatenate the results to the main DataFrame\n",
    "    df = pd.concat([df, current_page], ignore_index=True)"
   ]
  },
  {
   "cell_type": "code",
   "execution_count": 25,
   "id": "61640fcf-6738-4a4a-a989-fb6028f7c346",
   "metadata": {
    "tags": []
   },
   "outputs": [
    {
     "name": "stdout",
     "output_type": "stream",
     "text": [
      "<class 'pandas.core.frame.DataFrame'>\n",
      "RangeIndex: 36 entries, 0 to 35\n",
      "Data columns (total 18 columns):\n",
      " #   Column                  Non-Null Count  Dtype \n",
      "---  ------                  --------------  ----- \n",
      " 0   name                    36 non-null     object\n",
      " 1   model                   36 non-null     object\n",
      " 2   manufacturer            36 non-null     object\n",
      " 3   cost_in_credits         36 non-null     object\n",
      " 4   length                  36 non-null     object\n",
      " 5   max_atmosphering_speed  36 non-null     object\n",
      " 6   crew                    36 non-null     object\n",
      " 7   passengers              36 non-null     object\n",
      " 8   cargo_capacity          36 non-null     object\n",
      " 9   consumables             36 non-null     object\n",
      " 10  hyperdrive_rating       36 non-null     object\n",
      " 11  MGLT                    36 non-null     object\n",
      " 12  starship_class          36 non-null     object\n",
      " 13  pilots                  36 non-null     object\n",
      " 14  films                   36 non-null     object\n",
      " 15  created                 36 non-null     object\n",
      " 16  edited                  36 non-null     object\n",
      " 17  url                     36 non-null     object\n",
      "dtypes: object(18)\n",
      "memory usage: 5.2+ KB\n"
     ]
    }
   ],
   "source": [
    "df.info()"
   ]
  },
  {
   "cell_type": "markdown",
   "id": "6fca1e6f-9958-4ce2-8276-cdbb5a2a9241",
   "metadata": {},
   "source": [
    "# Question 4: \n",
    "Save the data in your files to local csv files so that it will be faster to access in the future."
   ]
  },
  {
   "cell_type": "code",
   "execution_count": 26,
   "id": "4c4cbacf-eac8-42e1-9410-c1b46eedf1e2",
   "metadata": {
    "tags": []
   },
   "outputs": [],
   "source": [
    "# imports\n",
    "import os"
   ]
  },
  {
   "cell_type": "code",
   "execution_count": 27,
   "id": "5abf89cd-9ed1-44f5-b178-79425a056649",
   "metadata": {
    "tags": []
   },
   "outputs": [],
   "source": [
    "# function for people:\n",
    "def acquire_starwars(base_url, num_pages):\n",
    "    '''\n",
    "    This function will: \n",
    "    - Create a dataframe for the url provided\n",
    "    - The num_pages are the number of pages the API site has\n",
    "   '''\n",
    "    \n",
    "    #create df\n",
    "    df = pd.DataFrame()\n",
    "    \n",
    "    #Get the data: \n",
    "    for page in range(1, num_pages + 1):\n",
    "        #get url for current page: \n",
    "        current_url = (f'{base_url}?page={page}')\n",
    "        #get the data:\n",
    "        response = requests.get(current_url)\n",
    "        data = response.json()\n",
    "        #extract results for the current page\n",
    "        current_page = pd.DataFrame(data['results'])\n",
    "        #concatenate the results to the main DataFrame\n",
    "        df = pd.concat([df,current_page], ignore_index = True)\n",
    "    return df"
   ]
  },
  {
   "cell_type": "code",
   "execution_count": 28,
   "id": "9f4753fc-dd83-4601-a351-25c1d13382bf",
   "metadata": {
    "tags": []
   },
   "outputs": [],
   "source": [
    "def fetch_api_data(base_url):\n",
    "    '''\n",
    "    This function will: \n",
    "    - get information from the starwars api \n",
    "    - give descriptions of each data frame\n",
    "    '''\n",
    "    # Fetch data for the provided base URL\n",
    "    response = requests.get(base_url)\n",
    "    data = response.json()\n",
    "\n",
    "    # Print the entire data dictionary\n",
    "    print(\"Data Dictionary:\")\n",
    "    print(data)\n",
    "    print()\n",
    "    \n",
    "    # Extract information\n",
    "    for key, url in data.items():\n",
    "        # Skip keys that are not relevant for counting\n",
    "        if not url.endswith('/'):\n",
    "            continue\n",
    "\n",
    "        # Fetch data for the specific key to get counts and results\n",
    "        key_response = requests.get(url)\n",
    "        key_data = key_response.json()\n",
    "\n",
    "        # Calculate relevant information\n",
    "        count_key = f'number_of_{key}'\n",
    "        count_results = len(key_data['results'])\n",
    "        max_page = math.ceil(key_data['count'] / count_results)\n",
    "\n",
    "        print(f\"{count_key}: {key_data['count']}\")\n",
    "        print(f\"max_page: {max_page}\")\n",
    "        print(f\"number_of_results: {count_results}\")\n",
    "        print()"
   ]
  },
  {
   "cell_type": "code",
   "execution_count": 29,
   "id": "7351eb4c-e970-4c2a-a9da-eb8f6c06ad74",
   "metadata": {
    "tags": []
   },
   "outputs": [
    {
     "name": "stdout",
     "output_type": "stream",
     "text": [
      "Data Dictionary:\n",
      "{'people': 'https://swapi.dev/api/people/', 'planets': 'https://swapi.dev/api/planets/', 'films': 'https://swapi.dev/api/films/', 'species': 'https://swapi.dev/api/species/', 'vehicles': 'https://swapi.dev/api/vehicles/', 'starships': 'https://swapi.dev/api/starships/'}\n",
      "\n",
      "number_of_people: 82\n",
      "max_page: 9\n",
      "number_of_results: 10\n",
      "\n",
      "number_of_planets: 60\n",
      "max_page: 6\n",
      "number_of_results: 10\n",
      "\n",
      "number_of_films: 6\n",
      "max_page: 1\n",
      "number_of_results: 6\n",
      "\n",
      "number_of_species: 37\n",
      "max_page: 4\n",
      "number_of_results: 10\n",
      "\n",
      "number_of_vehicles: 39\n",
      "max_page: 4\n",
      "number_of_results: 10\n",
      "\n",
      "number_of_starships: 36\n",
      "max_page: 4\n",
      "number_of_results: 10\n",
      "\n"
     ]
    }
   ],
   "source": [
    "fetch_api_data('https://swapi.dev/api/')"
   ]
  },
  {
   "cell_type": "code",
   "execution_count": 30,
   "id": "b021b955-3b19-43a4-8c7c-9b769a98de20",
   "metadata": {
    "tags": []
   },
   "outputs": [
    {
     "name": "stdout",
     "output_type": "stream",
     "text": [
      "<class 'pandas.core.frame.DataFrame'>\n",
      "RangeIndex: 82 entries, 0 to 81\n",
      "Data columns (total 16 columns):\n",
      " #   Column      Non-Null Count  Dtype \n",
      "---  ------      --------------  ----- \n",
      " 0   name        82 non-null     object\n",
      " 1   height      82 non-null     object\n",
      " 2   mass        82 non-null     object\n",
      " 3   hair_color  82 non-null     object\n",
      " 4   skin_color  82 non-null     object\n",
      " 5   eye_color   82 non-null     object\n",
      " 6   birth_year  82 non-null     object\n",
      " 7   gender      82 non-null     object\n",
      " 8   homeworld   82 non-null     object\n",
      " 9   films       82 non-null     object\n",
      " 10  species     82 non-null     object\n",
      " 11  vehicles    82 non-null     object\n",
      " 12  starships   82 non-null     object\n",
      " 13  created     82 non-null     object\n",
      " 14  edited      82 non-null     object\n",
      " 15  url         82 non-null     object\n",
      "dtypes: object(16)\n",
      "memory usage: 10.4+ KB\n"
     ]
    }
   ],
   "source": [
    "people = acquire_starwars('https://swapi.dev/api/people/', 9)\n",
    "people.info()"
   ]
  },
  {
   "cell_type": "code",
   "execution_count": null,
   "id": "9accdcc2-4375-4355-b893-40f193b481bf",
   "metadata": {
    "tags": []
   },
   "outputs": [],
   "source": [
    "planets = acquire_starwars('https://swapi.dev/api/planets/',6)\n",
    "planets.info()"
   ]
  },
  {
   "cell_type": "code",
   "execution_count": null,
   "id": "7657c905-4c6a-4c2d-877b-e8416d6da87a",
   "metadata": {
    "tags": []
   },
   "outputs": [],
   "source": [
    "starships = acquire_starwars('https://swapi.dev/api/starships/',4)\n",
    "starships.info()"
   ]
  },
  {
   "cell_type": "code",
   "execution_count": null,
   "id": "e9f8224a-6812-4c34-afa6-6d2ac468aa61",
   "metadata": {
    "tags": []
   },
   "outputs": [],
   "source": [
    "# csv file function: \n",
    "def csv(dataframe, file_name):\n",
    "    '''\n",
    "    This funciton will:\n",
    "    - Take in a dataframe (df)\n",
    "    - Take in the file_name\n",
    "    - Save the data into the file name if it is not already a csv\n",
    "    - call the dataframe: \n",
    "    '''\n",
    "    \n",
    "    if os.path.isfile(file_name):\n",
    "        # If the CSV file exists, read in data from the CSV file.\n",
    "        df = pd.read_csv(file_name, index_col=0)\n",
    "    else:\n",
    "        # Read fresh data from the DataFrame\n",
    "        df = dataframe\n",
    "        \n",
    "        # Cache data to CSV file\n",
    "        df.to_csv(file_name)\n",
    "\n",
    "    return df"
   ]
  },
  {
   "cell_type": "code",
   "execution_count": null,
   "id": "92ac17ce-a1ae-4455-a459-a9c09d7eb168",
   "metadata": {
    "tags": []
   },
   "outputs": [],
   "source": [
    "people = csv(people, 'people.csv')"
   ]
  },
  {
   "cell_type": "code",
   "execution_count": null,
   "id": "8304a038-a682-4fe7-afb8-b398fe796e6d",
   "metadata": {
    "tags": []
   },
   "outputs": [],
   "source": [
    "planet = csv(planets, 'planets.csv')"
   ]
  },
  {
   "cell_type": "code",
   "execution_count": null,
   "id": "755a6d03-c960-4b91-afb3-8d427b262293",
   "metadata": {
    "tags": []
   },
   "outputs": [],
   "source": [
    "starship = csv(starships, 'starships.csv')"
   ]
  },
  {
   "cell_type": "markdown",
   "id": "08969ffb-0ed3-4900-a0b0-44ce8209944f",
   "metadata": {},
   "source": [
    "# Question 5: \n",
    "Combine the data from your three separate dataframes into one large dataframe."
   ]
  },
  {
   "cell_type": "code",
   "execution_count": null,
   "id": "a48f3c34-ee26-4414-9507-ce167b9d286f",
   "metadata": {
    "tags": []
   },
   "outputs": [],
   "source": [
    "people.head(1)"
   ]
  },
  {
   "cell_type": "code",
   "execution_count": null,
   "id": "34ea667f-c6aa-4803-b558-5c96f5814af9",
   "metadata": {
    "tags": []
   },
   "outputs": [],
   "source": [
    "planet.head(1)"
   ]
  },
  {
   "cell_type": "code",
   "execution_count": null,
   "id": "4322f086-4763-4fc6-ba43-fd1f0667c19e",
   "metadata": {
    "tags": []
   },
   "outputs": [],
   "source": [
    "starship.head(1)"
   ]
  },
  {
   "cell_type": "markdown",
   "id": "b3f06fd9-6022-4b11-9f26-dac4a0a9c191",
   "metadata": {},
   "source": [
    "1. people and planets join on: people.homeworld = planets.url\n",
    "2. people and starships join on people.starships = starships.url"
   ]
  },
  {
   "cell_type": "markdown",
   "id": "2e3f0a8a-5ab4-4897-8ec3-6e8e2237efd8",
   "metadata": {},
   "source": [
    "Madalines Method: "
   ]
  },
  {
   "cell_type": "code",
   "execution_count": null,
   "id": "ee0a9adb-8b27-45d8-b010-c036016818a2",
   "metadata": {
    "tags": []
   },
   "outputs": [],
   "source": [
    "people_and_ships = pd.merge(\n",
    "left=people,\n",
    "right=starship.explode('pilots'),\n",
    "left_on= 'url',\n",
    "right_on= 'pilots',\n",
    "how='left',\n",
    "suffixes=['_people', '_starships']\n",
    ")"
   ]
  },
  {
   "cell_type": "code",
   "execution_count": null,
   "id": "0a65dcad-721b-4fde-b869-798c04386e56",
   "metadata": {
    "tags": []
   },
   "outputs": [],
   "source": [
    "people_and_ships.shape"
   ]
  },
  {
   "cell_type": "code",
   "execution_count": null,
   "id": "fa2104a7-40a3-4160-9f6b-5eeb9c02b971",
   "metadata": {
    "tags": []
   },
   "outputs": [],
   "source": [
    "# key pairing:\n",
    "# people.homeworld,\n",
    "# planets.url\n",
    "everything = pd.merge(\n",
    "left=people_and_ships,\n",
    "right=planet,\n",
    "how='left',\n",
    "left_on='homeworld',\n",
    "right_on='url')"
   ]
  },
  {
   "cell_type": "code",
   "execution_count": null,
   "id": "9f58772d-aca5-4bec-b894-a03ab9aa359e",
   "metadata": {
    "tags": []
   },
   "outputs": [],
   "source": [
    "everything.head()"
   ]
  },
  {
   "cell_type": "markdown",
   "id": "9ff8f19a-6e52-4b5b-94b7-53b125e338ec",
   "metadata": {},
   "source": [
    "# Question 6. \n",
    "Acquire the Open Power Systems Data for Germany, which has been rapidly expanding its renewable energy production in recent years. The data set includes country-wide totals of electricity consumption, wind power production, and solar power production for 2006-2017. You can get the data here: https://raw.githubusercontent.com/jenfly/opsd/master/opsd_germany_daily.csv"
   ]
  },
  {
   "cell_type": "code",
   "execution_count": null,
   "id": "6c8b0b93-d6d9-4ba4-8472-8fb9374ec7ca",
   "metadata": {
    "tags": []
   },
   "outputs": [],
   "source": [
    "germany = pd.read_csv(\"https://raw.githubusercontent.com/jenfly/opsd/master/opsd_germany_daily.csv\")\n",
    "germany.sample(5)"
   ]
  },
  {
   "cell_type": "markdown",
   "id": "5183c1fd-b631-40f0-8871-8fc0f589e3a9",
   "metadata": {},
   "source": [
    "# Question 7:  \n",
    "Make sure all the work that you have done above is reproducible. That is, you should put the code above into separate functions in the `acquire.py` file and be able to re-run the functions and get the same data."
   ]
  }
 ],
 "metadata": {
  "kernelspec": {
   "display_name": "Python 3 (ipykernel)",
   "language": "python",
   "name": "python3"
  },
  "language_info": {
   "codemirror_mode": {
    "name": "ipython",
    "version": 3
   },
   "file_extension": ".py",
   "mimetype": "text/x-python",
   "name": "python",
   "nbconvert_exporter": "python",
   "pygments_lexer": "ipython3",
   "version": "3.11.4"
  }
 },
 "nbformat": 4,
 "nbformat_minor": 5
}
